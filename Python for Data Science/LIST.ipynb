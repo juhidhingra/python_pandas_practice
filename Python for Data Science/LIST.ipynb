{
 "cells": [
  {
   "cell_type": "markdown",
   "metadata": {},
   "source": [
    "# LIST CREATION"
   ]
  },
  {
   "cell_type": "code",
   "execution_count": 5,
   "metadata": {},
   "outputs": [
    {
     "name": "stdout",
     "output_type": "stream",
     "text": [
      "glispa_people: <class 'list'>\n",
      "['Julie', 'Juhi', 'Maxime', 'radha', 'Anjelika']\n"
     ]
    }
   ],
   "source": [
    "glispa_people = [\"Julie\", \"Juhi\", \"Maxime\", \"radha\", \"Anjelika\"]\n",
    "\n",
    "print(\"glispa_people:\", type(glispa_people))\n",
    "print(glispa_people)"
   ]
  },
  {
   "cell_type": "code",
   "execution_count": 8,
   "metadata": {},
   "outputs": [
    {
     "name": "stdout",
     "output_type": "stream",
     "text": [
      "[1, 2, 3, 100, 4, 5]\n"
     ]
    }
   ],
   "source": [
    "glispa_employees_no = [1,2,3,100,4,5]\n",
    "\n",
    "print(glispa_employees_no)"
   ]
  },
  {
   "cell_type": "markdown",
   "metadata": {},
   "source": [
    "# LIST WITH MIX OF Integer, Str, list"
   ]
  },
  {
   "cell_type": "code",
   "execution_count": 9,
   "metadata": {},
   "outputs": [
    {
     "name": "stdout",
     "output_type": "stream",
     "text": [
      "[1, 2, 3, 'Juhi', 'Julie', ['Julie', 'Juhi', 'Maxime', 'radha', 'Anjelika']]\n"
     ]
    }
   ],
   "source": [
    "mixed_list = [1,2,3,\"Juhi\",\"Julie\", glispa_people]\n",
    "\n",
    "print(mixed_list)"
   ]
  },
  {
   "cell_type": "code",
   "execution_count": 54,
   "metadata": {},
   "outputs": [
    {
     "name": "stdout",
     "output_type": "stream",
     "text": [
      "['flat', 'long', 'short', 'irregular', 'sesamoid']\n",
      "['long', 'short', 'irregular', 'sesamoid']\n"
     ]
    }
   ],
   "source": [
    "kind_of_bones = [\"flat\", \"long\", \"short\", \"irregular\", \"sesamoid\"]\n",
    "\n",
    "print(kind_of_bones)\n",
    "\n",
    "del kind_of_bones[0]\n",
    "print(kind_of_bones)"
   ]
  },
  {
   "cell_type": "code",
   "execution_count": 13,
   "metadata": {},
   "outputs": [
    {
     "name": "stdout",
     "output_type": "stream",
     "text": [
      "flat is the first bone on the list\n",
      "irregular is the fourth bone on the list\n"
     ]
    }
   ],
   "source": [
    "print(kind_of_bones[0], \"is the first bone on the list\")\n",
    "print(kind_of_bones[3], \"is the fourth bone on the list\")"
   ]
  },
  {
   "cell_type": "markdown",
   "metadata": {},
   "source": [
    "# ACCESSING LIST"
   ]
  },
  {
   "cell_type": "code",
   "execution_count": 22,
   "metadata": {},
   "outputs": [
    {
     "name": "stdout",
     "output_type": "stream",
     "text": [
      "The first three ages total: 42\n"
     ]
    }
   ],
   "source": [
    "teen_age = [13,14,15,16,17,18,19]\n",
    "\n",
    "teen_age_sum = teen_age[0] + teen_age[1] + teen_age[2]\n",
    "\n",
    "print(\"The first three ages total:\",teen_age_sum)"
   ]
  },
  {
   "cell_type": "markdown",
   "metadata": {},
   "source": [
    "# LIST APPEND"
   ]
  },
  {
   "cell_type": "code",
   "execution_count": 29,
   "metadata": {},
   "outputs": [
    {
     "name": "stdout",
     "output_type": "stream",
     "text": [
      "Old medicines list: ['calpol', 'crocin', 'dettol', 'ors']\n",
      "New Medicines  list: ['calpol', 'crocin', 'dettol', 'ors', ['palmol', 'Thyroid plus']]\n"
     ]
    }
   ],
   "source": [
    "medicines = [\"calpol\", \"crocin\", \"dettol\", \"ors\"]\n",
    "print(\"Old medicines list:\", medicines)\n",
    "\n",
    "medicines_add = [\"palmol\", \"Thyroid plus\"]\n",
    "medicines.append(medicines_add)\n",
    "\n",
    "print(\"New Medicines  list:\", medicines)"
   ]
  },
  {
   "cell_type": "markdown",
   "metadata": {},
   "source": [
    "# LIST MODIFY AND INSERT"
   ]
  },
  {
   "cell_type": "code",
   "execution_count": 39,
   "metadata": {},
   "outputs": [
    {
     "name": "stdout",
     "output_type": "stream",
     "text": [
      "single_digit: four <class 'str'> \n",
      "\n",
      "single_digit: 4 <class 'int'> \n",
      "\n",
      "Single digits: ['one', 'two', 'three', 4, 'five']\n"
     ]
    }
   ],
   "source": [
    "single_digit = [\"one\", \"two\", \"three\", \"four\", \"five\"]\n",
    "print(\"single_digit:\",single_digit[3], type(single_digit[3]), \"\\n\")\n",
    "\n",
    "single_digit[3] = 4\n",
    "print(\"single_digit:\",single_digit[3], type(single_digit[3]), \"\\n\")\n",
    "\n",
    "print(\"Single digits:\", single_digit)"
   ]
  },
  {
   "cell_type": "markdown",
   "metadata": {},
   "source": [
    "# INSERT"
   ]
  },
  {
   "cell_type": "code",
   "execution_count": 52,
   "metadata": {},
   "outputs": [
    {
     "name": "stdout",
     "output_type": "stream",
     "text": [
      "party_list before: ['a', 'b', 'd', 'e'] \n",
      "\n",
      "a \n",
      "\n",
      "b \n",
      "\n",
      "party_list after: ['a', 'b', 'c', 'd', 'e'] \n",
      "\n",
      "['a', 'b', 'c', 'd', 'ABCDE', 'e']\n"
     ]
    }
   ],
   "source": [
    "party_list = [\"a\",\"b\",\"d\",\"e\"]\n",
    "print(\"party_list before:\",party_list,\"\\n\")\n",
    "\n",
    "print(party_list[0], \"\\n\")\n",
    "print(party_list[1], \"\\n\")\n",
    "\n",
    "party_list.insert(2,\"c\")\n",
    "print(\"party_list after:\", party_list, \"\\n\")\n",
    "\n",
    "party_list.insert(4,\"ABCDE\")               # at index 4 insert ABCDE\n",
    "print(party_list)\n",
    "\n"
   ]
  },
  {
   "cell_type": "markdown",
   "metadata": {},
   "source": [
    "# DELETE"
   ]
  },
  {
   "cell_type": "code",
   "execution_count": 60,
   "metadata": {},
   "outputs": [
    {
     "name": "stdout",
     "output_type": "stream",
     "text": [
      "['flat', 'long', 'short', 'irregular', 'sesamoid']\n",
      "['long', 'short', 'irregular', 'sesamoid']\n"
     ]
    }
   ],
   "source": [
    "kind_of_bones = [\"flat\", \"long\", \"short\", \"irregular\", \"sesamoid\"]\n",
    "\n",
    "print(kind_of_bones)\n",
    "  \n",
    "del kind_of_bones[0]           # deletes the item at index 0 \n",
    "\n",
    "print(kind_of_bones)"
   ]
  },
  {
   "cell_type": "markdown",
   "metadata": {},
   "source": [
    "# POP()"
   ]
  },
  {
   "cell_type": "markdown",
   "metadata": {},
   "source": [
    "# If no index is specified, a.pop() removes and returns the last item in the list."
   ]
  },
  {
   "cell_type": "code",
   "execution_count": 69,
   "metadata": {},
   "outputs": [
    {
     "name": "stdout",
     "output_type": "stream",
     "text": [
      "The number list is: [10, 11, 12, 13, 14, 15, 16] \n",
      "\n",
      "16 \n",
      "\n",
      "15 \n",
      "\n",
      "Add the popped values: 16 + 15 = 31\n"
     ]
    }
   ],
   "source": [
    "number_list = [10,11,12,13,14,15,16]\n",
    "\n",
    "print(\"The number list is:\", number_list,\"\\n\")\n",
    "\n",
    "num1 = number_list.pop()\n",
    "print(num1,\"\\n\")\n",
    "\n",
    "num2 = number_list.pop()\n",
    "print(num2, \"\\n\")\n",
    "\n",
    "print(\"Add the popped values:\",num1,\"+\", num2, \"=\",  num1 + num2)"
   ]
  },
  {
   "cell_type": "code",
   "execution_count": 83,
   "metadata": {},
   "outputs": [
    {
     "name": "stdout",
     "output_type": "stream",
     "text": [
      "Types of dog: ['Lab', 'Pug', 'Poodle'] \n",
      "\n",
      "Poodle popped, the list is now= ['Lab', 'Pug'] \n",
      "\n",
      "Pug popped, the list is now= ['Lab'] \n",
      "\n",
      "Lab popped, the list is now= [] \n",
      "\n"
     ]
    }
   ],
   "source": [
    "dog_types = [\"Lab\", \"Pug\", \"Poodle\"]\n",
    "print(\"Types of dog:\", dog_types,\"\\n\")\n",
    "\n",
    "while dog_types:                  # while loop exits the list when its empty/ FALSE\n",
    "    print(dog_types.pop(), \"popped, the list is now=\", dog_types, \"\\n\")"
   ]
  },
  {
   "cell_type": "markdown",
   "metadata": {},
   "source": [
    "# .remove()"
   ]
  },
  {
   "cell_type": "code",
   "execution_count": 86,
   "metadata": {},
   "outputs": [
    {
     "name": "stdout",
     "output_type": "stream",
     "text": [
      "['Lab', 'Poodle', 'Bulldog'] \n",
      "\n"
     ]
    }
   ],
   "source": [
    "dog_types = [\"Lab\", \"pug\", \"Poodle\", \"Bulldog\"]\n",
    "\n",
    "if \"pug\" in dog_types:\n",
    "    dog_types.remove(\"pug\")\n",
    "else:\n",
    "    print(\"No pug found\")\n",
    "    \n",
    "print(dog_types,\"\\n\")"
   ]
  },
  {
   "cell_type": "code",
   "execution_count": 90,
   "metadata": {},
   "outputs": [
    {
     "name": "stdout",
     "output_type": "stream",
     "text": [
      "['liner', 'mascara', 'lipstick', 'blush', 'compact', 'liner', 'liner']\n"
     ]
    }
   ],
   "source": [
    "makeup_pouch = [\"liner\",\"kajal\",\"mascara\",\"lipstick\",\"blush\",\"compact\", \"liner\", \"liner\"]\n",
    "\n",
    "if \"liner\" in makeup_pouch:\n",
    "    makeup_pouch.remove(\"kajal\")\n",
    "else:\n",
    "    print(\"No liner found\")\n",
    "    \n",
    "print(makeup_pouch)"
   ]
  },
  {
   "cell_type": "code",
   "execution_count": 103,
   "metadata": {},
   "outputs": [
    {
     "name": "stdout",
     "output_type": "stream",
     "text": [
      "['liner', 'kajal', 'mascara', 'lipstick', 'blush', 'liner', 'compact', 'liner'] \n",
      "\n",
      "['kajal', 'mascara', 'lipstick', 'blush', 'liner', 'compact', 'liner'] \n",
      "\n",
      "['kajal', 'mascara', 'lipstick', 'blush', 'compact', 'liner'] \n",
      "\n",
      "['kajal', 'mascara', 'lipstick', 'blush', 'compact'] \n",
      "\n",
      "No more liners found\n"
     ]
    }
   ],
   "source": [
    "makeup_pouch = [\"liner\",\"kajal\",\"mascara\",\"lipstick\",\"blush\",\"liner\",\"compact\", \"liner\"]\n",
    "\n",
    "print(makeup_pouch,\"\\n\")\n",
    "\n",
    "while \"liner\" in makeup_pouch:\n",
    "    makeup_pouch.remove(\"liner\")\n",
    "    print(makeup_pouch, \"\\n\")\n",
    "    \n",
    "print(\"No more liners found\")\n",
    "    \n",
    "# keeps removing the liner word until the statement is FALSE - WHILE LOOP ITERATES TILL A CONDITION IS TRUE, ONCE IT FALSE IT EXITS THE LOOP "
   ]
  },
  {
   "cell_type": "code",
   "execution_count": null,
   "metadata": {},
   "outputs": [],
   "source": []
  }
 ],
 "metadata": {
  "kernelspec": {
   "display_name": "Python 3",
   "language": "python",
   "name": "python3"
  },
  "language_info": {
   "codemirror_mode": {
    "name": "ipython",
    "version": 3
   },
   "file_extension": ".py",
   "mimetype": "text/x-python",
   "name": "python",
   "nbconvert_exporter": "python",
   "pygments_lexer": "ipython3",
   "version": "3.6.5"
  }
 },
 "nbformat": 4,
 "nbformat_minor": 2
}
