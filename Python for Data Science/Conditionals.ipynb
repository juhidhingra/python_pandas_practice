{
 "cells": [
  {
   "cell_type": "code",
   "execution_count": 1,
   "metadata": {},
   "outputs": [],
   "source": [
    "#if True:\n",
    " #   print(\"this prints if statement after \"if\" is true\")\n",
    "    \n",
    "#else:\n",
    " #   print(\"this prints if statement is Not true\")"
   ]
  },
  {
   "cell_type": "code",
   "execution_count": 2,
   "metadata": {},
   "outputs": [
    {
     "name": "stdout",
     "output_type": "stream",
     "text": [
      "Nice to meet you!\n"
     ]
    }
   ],
   "source": [
    "someone_i_know = False\n",
    "\n",
    "if someone_i_know:\n",
    "    print(\"How have you been?\")\n",
    "\n",
    "else:\n",
    "    print(\"Nice to meet you!\")"
   ]
  },
  {
   "cell_type": "code",
   "execution_count": 3,
   "metadata": {},
   "outputs": [],
   "source": [
    "someone_i_know = False\n",
    "\n",
    "if someone_i_know:\n",
    "    print(\"How have you been?\")\n",
    "\n",
    "else:\n",
    "    pass"
   ]
  },
  {
   "cell_type": "markdown",
   "metadata": {},
   "source": [
    "# pass - will run but if the condition is false, it doesn't give any output"
   ]
  },
  {
   "cell_type": "code",
   "execution_count": 4,
   "metadata": {},
   "outputs": [
    {
     "name": "stdout",
     "output_type": "stream",
     "text": [
      "Enter the title of your favorite book: hey\n",
      "Tip: Capitalize each word in the title-  hey\n"
     ]
    }
   ],
   "source": [
    "favorite_book = input(\"Enter the title of your favorite book: \")\n",
    "\n",
    "if favorite_book.istitle():\n",
    "    print(\"Nice capitalization in that title: \", favorite_book)\n",
    "else:\n",
    "    print(\"Tip: Capitalize each word in the title- \", favorite_book)\n",
    "    \n",
    "    "
   ]
  },
  {
   "cell_type": "markdown",
   "metadata": {},
   "source": [
    "#  isdigit() methods returns “True” if all characters in the string are digits, Otherwise, It returns “False”."
   ]
  },
  {
   "cell_type": "code",
   "execution_count": 5,
   "metadata": {},
   "outputs": [
    {
     "name": "stdout",
     "output_type": "stream",
     "text": [
      "Enter a number: \n",
      "This  is not a digit\n"
     ]
    }
   ],
   "source": [
    "my_number = input(\"Enter a number: \")\n",
    "\n",
    "if my_number.isdigit():\n",
    "    print(\"This is a number: \", my_number)\n",
    "else:\n",
    "    print(\"This\", my_number, \"is not a digit\")\n",
    "    \n",
    "if my_number.isalpha():                                   # double ifs\n",
    "    print(\"This is more like a word:\", my_number)\n",
    "else:\n",
    "    pass"
   ]
  },
  {
   "cell_type": "markdown",
   "metadata": {},
   "source": [
    "# isalpha() is a built-in method used for string handling. The isalpha() methods returns “True” if all characters in the string are alphabets, Otherwise, It returns “False”"
   ]
  },
  {
   "cell_type": "code",
   "execution_count": 6,
   "metadata": {},
   "outputs": [
    {
     "name": "stdout",
     "output_type": "stream",
     "text": [
      "Enter a number: \n",
      "This  is not a digit\n"
     ]
    }
   ],
   "source": [
    "my_number = input(\"Enter a number: \")\n",
    "\n",
    "if my_number.isdigit():\n",
    "    print(\"This is a number: \", my_number)\n",
    "else:\n",
    "    print(\"This\", my_number, \"is not a digit\")\n",
    "    "
   ]
  },
  {
   "cell_type": "code",
   "execution_count": 7,
   "metadata": {},
   "outputs": [
    {
     "name": "stdout",
     "output_type": "stream",
     "text": [
      "Enter your favorite fruit: \n"
     ]
    }
   ],
   "source": [
    "fruits = input(\"Enter your favorite fruit: \")\n",
    "\n",
    "if fruits.isalpha():\n",
    "    print(\"Favorite fruit:\", fruits)\n",
    "else:\n",
    "    pass"
   ]
  },
  {
   "cell_type": "code",
   "execution_count": 8,
   "metadata": {},
   "outputs": [
    {
     "name": "stdout",
     "output_type": "stream",
     "text": [
      "Plate is hot, careful!\n"
     ]
    }
   ],
   "source": [
    "hot_plate = True\n",
    "\n",
    "if hot_plate:\n",
    "    print(\"Plate is hot, careful!\")\n",
    "else:\n",
    "    print(\"Plate is ready\")"
   ]
  },
  {
   "cell_type": "code",
   "execution_count": 9,
   "metadata": {},
   "outputs": [
    {
     "name": "stdout",
     "output_type": "stream",
     "text": [
      "Truck does not start with \"P\"\n"
     ]
    }
   ],
   "source": [
    " vehicle_type = \"Truck\"\n",
    "\n",
    "if vehicle_type.upper().startswith(\"P\"):\n",
    "    print(vehicle_type, 'starts with \"P\"')\n",
    "else:\n",
    "    print(vehicle_type, 'does not start with \"P\"')"
   ]
  },
  {
   "cell_type": "markdown",
   "metadata": {},
   "source": [
    "# COMPARISON OPERATORS"
   ]
  },
  {
   "cell_type": "markdown",
   "metadata": {},
   "source": [
    "# IF ELSE"
   ]
  },
  {
   "cell_type": "code",
   "execution_count": 10,
   "metadata": {},
   "outputs": [
    {
     "name": "stdout",
     "output_type": "stream",
     "text": [
      "X is already greater than 25\n"
     ]
    }
   ],
   "source": [
    "x = 27\n",
    "\n",
    "if x > 25:\n",
    "    print(\"X is already greater than 25\")\n",
    "else:\n",
    "    print(\"X is\", x)\n",
    "    x = 26\n",
    "    print(\"X is now 26\")"
   ]
  },
  {
   "cell_type": "code",
   "execution_count": 11,
   "metadata": {},
   "outputs": [
    {
     "name": "stdout",
     "output_type": "stream",
     "text": [
      "Message not as expected\n"
     ]
    }
   ],
   "source": [
    "msg = \"save THE notebook\"\n",
    "\n",
    "if msg == \"save the notebook\":\n",
    "    print(\"save the notebook\")\n",
    "else:\n",
    "    print(\"Message not as expected\")"
   ]
  },
  {
   "cell_type": "code",
   "execution_count": 12,
   "metadata": {},
   "outputs": [
    {
     "name": "stdout",
     "output_type": "stream",
     "text": [
      "save the notebook\n"
     ]
    }
   ],
   "source": [
    "msg = \"Save THE notebook\"\n",
    "predicted_msg = \"save the notebook\"\n",
    "\n",
    "if msg.lower() == predicted_msg.lower():\n",
    "    print(\"save the notebook\")\n",
    "else:\n",
    "    print(\"Message not as expected\")"
   ]
  },
  {
   "cell_type": "code",
   "execution_count": 13,
   "metadata": {},
   "outputs": [
    {
     "name": "stdout",
     "output_type": "stream",
     "text": [
      "Enter last name: \n",
      "Welcome to A, B, C line\n"
     ]
    }
   ],
   "source": [
    "last_name = input(\"Enter last name: \")\n",
    "\n",
    "if last_name.lower() <= \"c\":\n",
    "    print(\"Welcome to A, B, C line\")\n",
    "else:\n",
    "    print(\"Sorry please Go to A,B,C line!\")"
   ]
  },
  {
   "cell_type": "markdown",
   "metadata": {},
   "source": [
    "# IF ELIF "
   ]
  },
  {
   "cell_type": "code",
   "execution_count": 17,
   "metadata": {},
   "outputs": [
    {
     "name": "stdout",
     "output_type": "stream",
     "text": [
      "Enter weather(Sunny,Rainy,Snow,Windy): sunny\n",
      "Enjoy the sun but don't forget to put sunscreen and carry your glasses\n"
     ]
    }
   ],
   "source": [
    "weather = input(\"Enter weather(Sunny,Rainy,Snow,Windy): \")\n",
    "\n",
    "if weather.lower() == \"sunny\":\n",
    "    print(\"Enjoy the sun but don't forget to put sunscreen and carry your glasses\")\n",
    "elif weather.lower() == \"Rainy\":\n",
    "    print(\"Carry an umbrella, its raining\")\n",
    "elif weather.lower() == \"Snow\":\n",
    "    print(\"Wear your hat and gloves its snowing\")\n",
    "elif weather.lower() == \"Windy\":\n",
    "    print(\"Carry a jacket its windy\")\n",
    "else:\n",
    "    print(\"Sorry not sure what to sgguest for the\", weather)"
   ]
  },
  {
   "cell_type": "code",
   "execution_count": 5,
   "metadata": {},
   "outputs": [
    {
     "name": "stdout",
     "output_type": "stream",
     "text": [
      "Enter a guess for the secret number(1,2,3,4): 2\n",
      "You won 10000 USD! Congratualtions\n"
     ]
    }
   ],
   "source": [
    "secret_number = \"2\"\n",
    "\n",
    "guess = input(\"Enter a guess for the secret number(1,2,3,4): \")\n",
    "\n",
    "if guess.isdigit() == False:\n",
    "    print(\"It can only be between 1 to 5 and has to be a digit\")\n",
    "elif guess == \"1\":\n",
    "    print(\"Sorry, wrong guess, try again next time\")\n",
    "elif guess == secret_number:\n",
    "    print(\"You won 10000 USD! Congratualtions\")\n",
    "elif guess == \"3\":\n",
    "    print(\"Sorry, wrong guess, try again next time\")\n",
    "elif guess == \"4\":\n",
    "    print(\"Sorry, wrong guess, try again next time\")\n",
    "else:\n",
    "    print(guess, \"- Invalid!Guess is not a valid guess(1 to 4)\")\n"
   ]
  },
  {
   "cell_type": "markdown",
   "metadata": {},
   "source": [
    "# CASTING"
   ]
  },
  {
   "cell_type": "markdown",
   "metadata": {},
   "source": [
    "# str, int, float"
   ]
  },
  {
   "cell_type": "code",
   "execution_count": 7,
   "metadata": {},
   "outputs": [
    {
     "name": "stdout",
     "output_type": "stream",
     "text": [
      "100\n"
     ]
    }
   ],
   "source": [
    "weight_1 = \"60\"\n",
    "weight_2 = 40\n",
    "\n",
    "total_weight = int(weight_1) + weight_2\n",
    "\n",
    "print(total_weight)"
   ]
  },
  {
   "cell_type": "markdown",
   "metadata": {},
   "source": [
    "# convert str to int"
   ]
  },
  {
   "cell_type": "code",
   "execution_count": null,
   "metadata": {},
   "outputs": [],
   "source": []
  }
 ],
 "metadata": {
  "kernelspec": {
   "display_name": "Python 3",
   "language": "python",
   "name": "python3"
  },
  "language_info": {
   "codemirror_mode": {
    "name": "ipython",
    "version": 3
   },
   "file_extension": ".py",
   "mimetype": "text/x-python",
   "name": "python",
   "nbconvert_exporter": "python",
   "pygments_lexer": "ipython3",
   "version": "3.6.5"
  }
 },
 "nbformat": 4,
 "nbformat_minor": 2
}
