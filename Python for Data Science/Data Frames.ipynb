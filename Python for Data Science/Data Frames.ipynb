{
 "cells": [
  {
   "cell_type": "markdown",
   "metadata": {},
   "source": [
    "# importing data into python "
   ]
  },
  {
   "cell_type": "code",
   "execution_count": 1,
   "metadata": {},
   "outputs": [],
   "source": [
    "import pandas as pd"
   ]
  },
  {
   "cell_type": "markdown",
   "metadata": {},
   "source": [
    "# specify full path of a file \n",
    "\n",
    "#stats is just the name given to the data frame=>you can name it anything \n",
    "\n",
    "#Just an example\n",
    "\n",
    "#######WINDOWS\n",
    "\n",
    "#stats = pd.read_csv('double back slashes\\\\.csv') = C:\\\\Users\\\\juhi.dhingra\\\\Documents\\\\PYTHON_PROGRAMMING _COURSE\n",
    "\n",
    "#######MAC\n",
    "\n",
    "#stats = pd.read_csv('single forward slash/.csv') = C:/Users/juhi.dhingra/Documents/PYTHON_PROGRAMMING _COURSE\n",
    "\n",
    "# to print just type stats \n"
   ]
  },
  {
   "cell_type": "markdown",
   "metadata": {},
   "source": [
    "# Method 1:"
   ]
  },
  {
   "cell_type": "code",
   "execution_count": 17,
   "metadata": {},
   "outputs": [],
   "source": [
    "#stats is just the name given to the data frame=>you can name it anything \n",
    "\n",
    "#Just an example\n",
    "\n",
    "#######WINDOWS\n",
    "\n",
    "#stats = pd.read_csv('double back slashes\\\\.csv') = C:\\\\Users\\\\juhi.dhingra\\\\Documents\\\\PYTHON_PROGRAMMING _COURSE\n",
    "\n",
    "#######MAC\n",
    "\n",
    "#stats = pd.read_csv('single forward slash/.csv') = C:/Users/juhi.dhingra/Documents/PYTHON_PROGRAMMING _COURSE\n",
    "\n",
    "# to print just type stats \n"
   ]
  },
  {
   "cell_type": "markdown",
   "metadata": {},
   "source": [
    "# Method 2"
   ]
  },
  {
   "cell_type": "code",
   "execution_count": null,
   "metadata": {},
   "outputs": [],
   "source": [
    "# Change working directory "
   ]
  },
  {
   "cell_type": "code",
   "execution_count": 19,
   "metadata": {},
   "outputs": [],
   "source": [
    "import os"
   ]
  },
  {
   "cell_type": "code",
   "execution_count": 20,
   "metadata": {},
   "outputs": [
    {
     "name": "stdout",
     "output_type": "stream",
     "text": [
      "C:\\Users\\juhi.dhingra\\Documents\\PYTHON_PROGRAMMING _COURSE\n"
     ]
    }
   ],
   "source": [
    "#cwd is current working directory\n",
    "print(os.getcwd())"
   ]
  },
  {
   "cell_type": "code",
   "execution_count": 21,
   "metadata": {},
   "outputs": [],
   "source": [
    "#stats2 = pd.read_csv('__.csv')"
   ]
  },
  {
   "cell_type": "code",
   "execution_count": 22,
   "metadata": {},
   "outputs": [],
   "source": [
    "#stats2"
   ]
  },
  {
   "cell_type": "markdown",
   "metadata": {},
   "source": [
    "# Exploring your data "
   ]
  },
  {
   "cell_type": "markdown",
   "metadata": {},
   "source": [
    "# Number of rows"
   ]
  },
  {
   "cell_type": "code",
   "execution_count": 3,
   "metadata": {},
   "outputs": [],
   "source": [
    "#len(file_name)   for example: file_name -> stats \n",
    "\n",
    "#len(stats) will give you the number of rows in the data "
   ]
  },
  {
   "cell_type": "markdown",
   "metadata": {},
   "source": [
    "# How to see coloums in the data "
   ]
  },
  {
   "cell_type": "code",
   "execution_count": 6,
   "metadata": {},
   "outputs": [],
   "source": [
    "#stats.coloums\n",
    "\n",
    "#will show you all the coloumn names in your data \n",
    "\n",
    "#number of coloums -\n",
    "\n",
    "#len(stats.coloums)"
   ]
  },
  {
   "cell_type": "markdown",
   "metadata": {},
   "source": [
    "# To see the top rows"
   ]
  },
  {
   "cell_type": "code",
   "execution_count": 9,
   "metadata": {},
   "outputs": [],
   "source": [
    "#stats.head()\n",
    "\n",
    "#gives you the feel of the how the data will look as sometimes you dont need to see the whole data but just get the feel of it "
   ]
  },
  {
   "cell_type": "markdown",
   "metadata": {},
   "source": [
    "# To see bottom rows"
   ]
  },
  {
   "cell_type": "code",
   "execution_count": 10,
   "metadata": {},
   "outputs": [],
   "source": [
    "#stats.tail()\n",
    "\n",
    "#gives you the bottom 5 rows"
   ]
  },
  {
   "cell_type": "markdown",
   "metadata": {},
   "source": [
    "# Information on the coloumns "
   ]
  },
  {
   "cell_type": "code",
   "execution_count": 13,
   "metadata": {},
   "outputs": [],
   "source": [
    "#stats.info()\n",
    "\n",
    "#get information about each coloum - if its string/object/float and how many rows and coloumns, plus the size of the data"
   ]
  },
  {
   "cell_type": "markdown",
   "metadata": {},
   "source": [
    "# Get stats on the coloumns"
   ]
  },
  {
   "cell_type": "code",
   "execution_count": 15,
   "metadata": {},
   "outputs": [],
   "source": [
    "# stats.describe()\n",
    "\n",
    "#gives stats summary for all the numeric data - like mean, count, standard, min,max, 25%,50%,75%,etc\n",
    "\n",
    "# stats.describe().transpose\n",
    "\n",
    "#this will give you the data horizontally which can be easier to read "
   ]
  },
  {
   "cell_type": "markdown",
   "metadata": {},
   "source": [
    "# Renaming coloumns of a data frame"
   ]
  },
  {
   "cell_type": "code",
   "execution_count": 16,
   "metadata": {},
   "outputs": [],
   "source": [
    "#stats.head()    -----------to see your data frame"
   ]
  },
  {
   "cell_type": "code",
   "execution_count": null,
   "metadata": {},
   "outputs": [],
   "source": [
    "# stats.columns   ------ will show you the coloumn names\n",
    "\n",
    "# to rename -----\n",
    "\n",
    "# stats.coloumns = []\n",
    "\n",
    "#just change the names by putting them inside the brackets ----- you can also copy paste the actual names and simply edit them inside the brackets"
   ]
  }
 ],
 "metadata": {
  "kernelspec": {
   "display_name": "Python 3",
   "language": "python",
   "name": "python3"
  },
  "language_info": {
   "codemirror_mode": {
    "name": "ipython",
    "version": 3
   },
   "file_extension": ".py",
   "mimetype": "text/x-python",
   "name": "python",
   "nbconvert_exporter": "python",
   "pygments_lexer": "ipython3",
   "version": "3.6.5"
  }
 },
 "nbformat": 4,
 "nbformat_minor": 2
}
