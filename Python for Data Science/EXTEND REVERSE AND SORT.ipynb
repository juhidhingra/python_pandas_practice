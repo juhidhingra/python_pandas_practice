{
 "cells": [
  {
   "cell_type": "markdown",
   "metadata": {},
   "source": [
    "# EXTEND"
   ]
  },
  {
   "cell_type": "code",
   "execution_count": 1,
   "metadata": {},
   "outputs": [
    {
     "name": "stdout",
     "output_type": "stream",
     "text": [
      "All Countries ['US', 'Australia', 'New Zealand', 'Russia', 'India', 'Germany', 'Greenland', 'Ireland', 'Brazil']\n"
     ]
    }
   ],
   "source": [
    "visited_countries = [\"US\",\"Australia\",\"New Zealand\",\"Russia\",\"India\",\"Germany\"]\n",
    "wish_countries = [\"Greenland\",\"Ireland\",\"Brazil\"]\n",
    "\n",
    "visited_countries.extend(wish_countries)\n",
    "\n",
    "print(\"All Countries\",visited_countries)"
   ]
  },
  {
   "cell_type": "markdown",
   "metadata": {},
   "source": [
    "# REVERSE"
   ]
  },
  {
   "cell_type": "code",
   "execution_count": 5,
   "metadata": {},
   "outputs": [
    {
     "name": "stdout",
     "output_type": "stream",
     "text": [
      "Initial order ['US', 'Australia', 'New Zealand', 'Russia', 'India', 'Germany']\n",
      "Reversed order ['Germany', 'India', 'Russia', 'New Zealand', 'Australia', 'US']\n"
     ]
    }
   ],
   "source": [
    "countries = [\"US\",\"Australia\",\"New Zealand\",\"Russia\",\"India\",\"Germany\"]\n",
    "\n",
    "print(\"Initial order\",countries)\n",
    "\n",
    "countries.reverse()\n",
    "\n",
    "print(\"Reversed order\",countries)"
   ]
  },
  {
   "cell_type": "markdown",
   "metadata": {},
   "source": [
    "# SORT"
   ]
  },
  {
   "cell_type": "code",
   "execution_count": 9,
   "metadata": {},
   "outputs": [
    {
     "name": "stdout",
     "output_type": "stream",
     "text": [
      "Quiz score:  [3, 7, 8, 2, 1, 9, 10, 5, 4, 6]\n",
      "Sorted list of quiz scores:  [1, 2, 3, 4, 5, 6, 7, 8, 9, 10]\n"
     ]
    }
   ],
   "source": [
    "quiz_score = [3,7,8,2,1,9,10,5,4,6]\n",
    "\n",
    "print(\"Quiz score: \",quiz_score)\n",
    "\n",
    "quiz_score.sort()\n",
    "\n",
    "print(\"Sorted list of quiz scores: \",quiz_score)"
   ]
  },
  {
   "cell_type": "code",
   "execution_count": 11,
   "metadata": {},
   "outputs": [
    {
     "name": "stdout",
     "output_type": "stream",
     "text": [
      "Quiz score [3, 7, 8, 2, 1, 9, 10, 5, 4, 6]\n",
      "Sorted quiz score [1, 2, 3, 4, 5, 6, 7, 8, 9, 10]\n"
     ]
    }
   ],
   "source": [
    "quiz_score = [3,7,8,2,1,9,10,5,4,6]\n",
    "\n",
    "sorted_quiz_score = sorted(quiz_score)\n",
    "\n",
    "print(\"Quiz score\", quiz_score)\n",
    "print(\"Sorted quiz score\", sorted_quiz_score)"
   ]
  },
  {
   "cell_type": "code",
   "execution_count": 15,
   "metadata": {},
   "outputs": [
    {
     "name": "stdout",
     "output_type": "stream",
     "text": [
      "Unsorted country list:  ['US', 'Australia', 'New Zealand', 'Russia', 'India', 'Germany']\n",
      "Alphabetically Sorted country names:  ['Australia', 'Germany', 'India', 'New Zealand', 'Russia', 'US']\n"
     ]
    }
   ],
   "source": [
    "countries = [\"US\",\"Australia\",\"New Zealand\",\"Russia\",\"India\",\"Germany\"]\n",
    "\n",
    "print(\"Unsorted country list: \", countries)\n",
    "\n",
    "sorted_list = sorted(countries)             # OR ANOTHER WAY => countries.sort()\n",
    "\n",
    "print(\"Alphabetically Sorted country names: \", sorted_list)"
   ]
  },
  {
   "cell_type": "code",
   "execution_count": null,
   "metadata": {},
   "outputs": [],
   "source": []
  }
 ],
 "metadata": {
  "kernelspec": {
   "display_name": "Python 3",
   "language": "python",
   "name": "python3"
  },
  "language_info": {
   "codemirror_mode": {
    "name": "ipython",
    "version": 3
   },
   "file_extension": ".py",
   "mimetype": "text/x-python",
   "name": "python",
   "nbconvert_exporter": "python",
   "pygments_lexer": "ipython3",
   "version": "3.6.5"
  }
 },
 "nbformat": 4,
 "nbformat_minor": 2
}
