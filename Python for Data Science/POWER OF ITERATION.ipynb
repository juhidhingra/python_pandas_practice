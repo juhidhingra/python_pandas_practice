{
 "cells": [
  {
   "cell_type": "markdown",
   "metadata": {},
   "source": [
    "# FOR/IN"
   ]
  },
  {
   "cell_type": "code",
   "execution_count": 1,
   "metadata": {},
   "outputs": [
    {
     "name": "stdout",
     "output_type": "stream",
     "text": [
      "['Delhi', 'Pune', 'Mumbai', 'New York', 'Chicago']\n"
     ]
    }
   ],
   "source": [
    "cities = [\"Delhi\", \"Pune\", \"Mumbai\", \"New York\", \"Chicago\"]\n",
    "\n",
    "print(cities)"
   ]
  },
  {
   "cell_type": "code",
   "execution_count": 2,
   "metadata": {},
   "outputs": [
    {
     "name": "stdout",
     "output_type": "stream",
     "text": [
      "Delhi\n",
      "Pune\n",
      "Mumbai\n",
      "New York\n",
      "Chicago\n"
     ]
    }
   ],
   "source": [
    "cities = [\"Delhi\", \"Pune\", \"Mumbai\", \"New York\", \"Chicago\"]\n",
    "\n",
    "for city in cities:\n",
    "    print(city)"
   ]
  },
  {
   "cell_type": "code",
   "execution_count": 10,
   "metadata": {},
   "outputs": [
    {
     "name": "stdout",
     "output_type": "stream",
     "text": [
      "Total Sales in USD: 3000\n"
     ]
    }
   ],
   "source": [
    "sales = [100,200,250,300,400,500,600,650]\n",
    "total_sales = 0\n",
    "\n",
    "for dollar in sales:\n",
    "    total_sales = total_sales + dollar              # same as total_sales += dollar  ---------dollar is just a suitable variable name\n",
    "   \n",
    "print(\"Total Sales in USD:\", total_sales)"
   ]
  },
  {
   "cell_type": "markdown",
   "metadata": {},
   "source": [
    "# SORT AND FILTER "
   ]
  },
  {
   "cell_type": "code",
   "execution_count": 14,
   "metadata": {},
   "outputs": [
    {
     "name": "stdout",
     "output_type": "stream",
     "text": [
      "Long bone names: \n",
      " lateral cuneiform\n",
      "intermediate cuneiform\n",
      "medial cuneiform\n",
      " \n",
      "\n",
      "Short bone names: \n",
      " calcaneus\n",
      "talus\n",
      "cuboid\n",
      "navicular\n",
      " \n",
      "\n"
     ]
    }
   ],
   "source": [
    "foot_bones = [\"calcaneus\", \"talus\", \"cuboid\", \"navicular\", \"lateral cuneiform\", \n",
    "            \"intermediate cuneiform\", \"medial cuneiform\"]\n",
    "\n",
    "#An empty string is an object of type string that contains enough data to know that the length of the string is zero.\n",
    "\n",
    "long_names = \"\"\n",
    "short_names = \"\"\n",
    "\n",
    "for bone_name in foot_bones:\n",
    "    if len(bone_name) < 10:\n",
    "        short_names = short_names + bone_name + \"\\n\"\n",
    "    else:\n",
    "        long_names = long_names + bone_name + \"\\n\"\n",
    "        \n",
    "print(\"Long bone names:\",\"\\n\", long_names, \"\\n\")\n",
    "print(\"Short bone names:\",\"\\n\", short_names, \"\\n\")\n"
   ]
  },
  {
   "cell_type": "markdown",
   "metadata": {},
   "source": [
    "# APPEND"
   ]
  },
  {
   "cell_type": "code",
   "execution_count": 15,
   "metadata": {},
   "outputs": [
    {
     "name": "stdout",
     "output_type": "stream",
     "text": [
      "Long bone names: \n",
      " ['lateral cuneiform', 'intermediate cuneiform', 'medial cuneiform'] \n",
      "\n",
      "Short bone names: \n",
      " ['calcaneus', 'talus', 'cuboid', 'navicular'] \n",
      "\n"
     ]
    }
   ],
   "source": [
    "foot_bones = [\"calcaneus\", \"talus\", \"cuboid\", \"navicular\", \"lateral cuneiform\", \n",
    "            \"intermediate cuneiform\", \"medial cuneiform\"]\n",
    "\n",
    "long_names = []\n",
    "short_names = []\n",
    "\n",
    "for bone_name in foot_bones:\n",
    "    if len(bone_name) < 10:\n",
    "        short_names.append(bone_name) \n",
    "    else:\n",
    "        long_names.append(bone_name) \n",
    "        \n",
    "print(\"Long bone names:\",\"\\n\", long_names, \"\\n\")\n",
    "print(\"Short bone names:\",\"\\n\", short_names, \"\\n\")\n"
   ]
  },
  {
   "cell_type": "markdown",
   "metadata": {},
   "source": [
    "# COUNT AND SEARCH"
   ]
  },
  {
   "cell_type": "code",
   "execution_count": 24,
   "metadata": {},
   "outputs": [
    {
     "name": "stdout",
     "output_type": "stream",
     "text": [
      "5\n",
      "The total number of e in the city names are: 5\n"
     ]
    }
   ],
   "source": [
    "# find the letter e and count how many times it appears in the list of cities\n",
    "\n",
    "cities = [\"Delhi\", \"Pune\", \"Mumbai\", \"New York\", \"Chicago\", \"Mexico\", \"Egypt\"]\n",
    "search_word = \"e\"\n",
    "total_e = 0\n",
    "\n",
    "for city_name in cities:\n",
    "    total_e = total_e + city_name.lower().count(search_word)\n",
    "\n",
    "print(total_e)\n",
    "    \n",
    "print(\"The total number of\", search_word ,\"in the city names are:\", total_e)\n"
   ]
  },
  {
   "cell_type": "markdown",
   "metadata": {},
   "source": [
    "# BUILD CITY SEARCH FUNCTION USING FOR IN ITERATION"
   ]
  },
  {
   "cell_type": "code",
   "execution_count": null,
   "metadata": {},
   "outputs": [],
   "source": [
    "def city_search(search_item, cities = [\"Delhi\", \"Pune\", \"Mumbai\", \"New York\", \"Chicago\", \"Mexico\", \"Egypt\"])\n",
    "\n"
   ]
  }
 ],
 "metadata": {
  "kernelspec": {
   "display_name": "Python 3",
   "language": "python",
   "name": "python3"
  },
  "language_info": {
   "codemirror_mode": {
    "name": "ipython",
    "version": 3
   },
   "file_extension": ".py",
   "mimetype": "text/x-python",
   "name": "python",
   "nbconvert_exporter": "python",
   "pygments_lexer": "ipython3",
   "version": "3.6.5"
  }
 },
 "nbformat": 4,
 "nbformat_minor": 2
}
