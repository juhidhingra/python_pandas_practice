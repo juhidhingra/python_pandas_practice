{
 "cells": [
  {
   "cell_type": "markdown",
   "metadata": {},
   "source": [
    "# call Function with argument"
   ]
  },
  {
   "cell_type": "code",
   "execution_count": 3,
   "metadata": {},
   "outputs": [],
   "source": [
    "# Functions enable code reuse and make code easier to develop and maintain."
   ]
  },
  {
   "cell_type": "markdown",
   "metadata": {},
   "source": [
    "# def\n",
    "# function name\n",
    "# parenthesis\n",
    "# colon"
   ]
  },
  {
   "cell_type": "code",
   "execution_count": 2,
   "metadata": {},
   "outputs": [
    {
     "name": "stdout",
     "output_type": "stream",
     "text": [
      "I am 35 years old\n",
      "I feel very young\n"
     ]
    }
   ],
   "source": [
    "def age():\n",
    "    print(\"I am 35 years old\")\n",
    "    print(\"I feel very young\")\n",
    "\n",
    "age()               ##call the function by its name and parenthesis"
   ]
  },
  {
   "cell_type": "code",
   "execution_count": 3,
   "metadata": {},
   "outputs": [],
   "source": [
    "def my_age_function():\n",
    "    print(30)\n"
   ]
  },
  {
   "cell_type": "code",
   "execution_count": 4,
   "metadata": {},
   "outputs": [
    {
     "name": "stdout",
     "output_type": "stream",
     "text": [
      "30\n"
     ]
    }
   ],
   "source": [
    "my_age_function()"
   ]
  },
  {
   "cell_type": "markdown",
   "metadata": {},
   "source": [
    "# FUNCTION WITH PARAMETERS"
   ]
  },
  {
   "cell_type": "code",
   "execution_count": 8,
   "metadata": {},
   "outputs": [],
   "source": [
    "def say_this(phrase):              #variable inside a function\n",
    "    print(phrase)                 #this variable/parameter gets used inside a function\n"
   ]
  },
  {
   "cell_type": "code",
   "execution_count": 9,
   "metadata": {
    "scrolled": true
   },
   "outputs": [
    {
     "name": "stdout",
     "output_type": "stream",
     "text": [
      "I loved being part of Emirates\n"
     ]
    }
   ],
   "source": [
    "say_this(\"I loved being part of Emirates\")"
   ]
  },
  {
   "cell_type": "code",
   "execution_count": 13,
   "metadata": {},
   "outputs": [],
   "source": [
    "def rule_book(rules):\n",
    "    print(rules.upper())\n"
   ]
  },
  {
   "cell_type": "code",
   "execution_count": 18,
   "metadata": {},
   "outputs": [
    {
     "name": "stdout",
     "output_type": "stream",
     "text": [
      "NO SMOKING\n",
      "NO DRUGS ALLOWED\n",
      "DON'T BREAK MY RULES\n"
     ]
    }
   ],
   "source": [
    "rule_book(\"no smoking\")\n",
    "rule_book(\"no drugs allowed\")\n",
    "rule_book(\"don't break my rules\")"
   ]
  },
  {
   "cell_type": "code",
   "execution_count": 23,
   "metadata": {},
   "outputs": [],
   "source": [
    "def rule_book(rules = \"dont' make noise\"):\n",
    "    print(rules.upper() + \"!\")\n"
   ]
  },
  {
   "cell_type": "code",
   "execution_count": 24,
   "metadata": {
    "scrolled": true
   },
   "outputs": [
    {
     "name": "stdout",
     "output_type": "stream",
     "text": [
      "NO SMOKING!\n",
      "DONT' MAKE NOISE!\n"
     ]
    }
   ],
   "source": [
    "rule_book(\"no smoking\")\n",
    "\n",
    "rule_book()"
   ]
  },
  {
   "cell_type": "markdown",
   "metadata": {},
   "source": [
    "# the above code basically uses the DEFAULT VALUE IF YOU DONT USE A PARAMETER IN THE PARENTHESIS WHILE CALLING THE FUNCTION"
   ]
  },
  {
   "cell_type": "code",
   "execution_count": 25,
   "metadata": {},
   "outputs": [],
   "source": [
    "def add_num(num_1 = 10):\n",
    "    print(num_1 + num_1)"
   ]
  },
  {
   "cell_type": "code",
   "execution_count": 26,
   "metadata": {},
   "outputs": [
    {
     "name": "stdout",
     "output_type": "stream",
     "text": [
      "20\n"
     ]
    }
   ],
   "source": [
    "add_num()"
   ]
  },
  {
   "cell_type": "markdown",
   "metadata": {},
   "source": [
    "# Return function"
   ]
  },
  {
   "cell_type": "code",
   "execution_count": 39,
   "metadata": {
    "scrolled": true
   },
   "outputs": [
    {
     "name": "stdout",
     "output_type": "stream",
     "text": [
      "Repeat what I say Repeat what I say\n"
     ]
    }
   ],
   "source": [
    "def msg_double(phrase):\n",
    "    double = phrase + \" \" + phrase               # phrase + phrase - you want to print statement twice\n",
    "    return double\n",
    "\n",
    "msg_2x = msg_double(\"Repeat what I say\")             # double gets returned to replace this function column()- msg_double(\"Repeat what I say\")\n",
    "\n",
    "print(msg_2x)"
   ]
  },
  {
   "cell_type": "code",
   "execution_count": 43,
   "metadata": {},
   "outputs": [
    {
     "name": "stdout",
     "output_type": "stream",
     "text": [
      "21.0\n"
     ]
    }
   ],
   "source": [
    "def half_value(value):\n",
    "    return value/2\n",
    "\n",
    "print(half_value(42))"
   ]
  },
  {
   "cell_type": "markdown",
   "metadata": {},
   "source": [
    "# the return command above replaces the value of the function "
   ]
  },
  {
   "cell_type": "code",
   "execution_count": 45,
   "metadata": {},
   "outputs": [
    {
     "name": "stdout",
     "output_type": "stream",
     "text": [
      "10\n",
      "20\n"
     ]
    }
   ],
   "source": [
    "def my_mulitples(value):\n",
    "    return value*2\n",
    "\n",
    "print(my_mulitples(5))\n",
    "print(my_mulitples(10))"
   ]
  },
  {
   "cell_type": "markdown",
   "metadata": {},
   "source": [
    "# CALL FUNCTION WITH MULTIPLE PARAMETERS"
   ]
  },
  {
   "cell_type": "code",
   "execution_count": 65,
   "metadata": {},
   "outputs": [
    {
     "name": "stdout",
     "output_type": "stream",
     "text": [
      "Schedule: ('[1st]Maths', '[2nd]History', '[3rd]Economics')\n"
     ]
    }
   ],
   "source": [
    "def make_schedule(period1, period2, period3):\n",
    "    schedule = (\"[1st]\"+period1.title(), \"[2nd]\"+period2.title(), \"[3rd]\"+period3.title())\n",
    "    return schedule\n",
    "\n",
    "student_schedule = make_schedule(\"maths\",\"history\",\"economics\")\n",
    "\n",
    "print(\"Schedule:\",student_schedule)"
   ]
  },
  {
   "cell_type": "code",
   "execution_count": 70,
   "metadata": {},
   "outputs": [
    {
     "name": "stdout",
     "output_type": "stream",
     "text": [
      "Student: Juhi\n",
      "Age: 26\n",
      "Gender: Female\n"
     ]
    }
   ],
   "source": [
    "def student_data(name, age, sex):\n",
    "    info = \"Student: \"+ name + \"\\nAge: \" + str(age) + \"\\nGender: \" + sex\n",
    "    return info\n",
    "\n",
    "print(people_info(\"Juhi\",26,\"Female\"))"
   ]
  },
  {
   "cell_type": "code",
   "execution_count": 75,
   "metadata": {},
   "outputs": [
    {
     "name": "stdout",
     "output_type": "stream",
     "text": [
      "Order no: 25\n",
      "Family_name: Khanna\n",
      "Family_size: 5\n",
      "Boxes ordered: 2\n"
     ]
    }
   ],
   "source": [
    "def foodora_data(order_no,family_name,family_size, boxes_ordered):\n",
    "    info = \"Order no: \" + str(order_no) + \"\\n\" + \"Family_name: \"+ family_name + \"\\n\" + \"Family_size: \" + str(family_size) + \"\\n\" + \"Boxes ordered: \" + str(boxes_ordered)\n",
    "    \n",
    "    return info\n",
    "\n",
    "print(foodora_data(25,\"Khanna\",5, 2))"
   ]
  },
  {
   "cell_type": "code",
   "execution_count": 85,
   "metadata": {},
   "outputs": [
    {
     "name": "stdout",
     "output_type": "stream",
     "text": [
      "Hat available in color:  BLUE\n"
     ]
    }
   ],
   "source": [
    "def hat_available(color):\n",
    "    hat_colors = 'black,red,BLUE,yellow,green,purple,mustrad'\n",
    "    return (color.lower() in hat_colors)\n",
    "\n",
    "print(\"Hat available in color: \", 'BLUE')"
   ]
  },
  {
   "cell_type": "code",
   "execution_count": null,
   "metadata": {},
   "outputs": [],
   "source": []
  },
  {
   "cell_type": "code",
   "execution_count": null,
   "metadata": {},
   "outputs": [],
   "source": []
  }
 ],
 "metadata": {
  "kernelspec": {
   "display_name": "Python 3",
   "language": "python",
   "name": "python3"
  },
  "language_info": {
   "codemirror_mode": {
    "name": "ipython",
    "version": 3
   },
   "file_extension": ".py",
   "mimetype": "text/x-python",
   "name": "python",
   "nbconvert_exporter": "python",
   "pygments_lexer": "ipython3",
   "version": "3.6.5"
  }
 },
 "nbformat": 4,
 "nbformat_minor": 2
}
