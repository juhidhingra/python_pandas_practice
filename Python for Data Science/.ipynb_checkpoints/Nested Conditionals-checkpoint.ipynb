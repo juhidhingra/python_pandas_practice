{
 "cells": [
  {
   "cell_type": "markdown",
   "metadata": {},
   "source": [
    "# Nested conditions"
   ]
  },
  {
   "cell_type": "code",
   "execution_count": 5,
   "metadata": {
    "scrolled": true
   },
   "outputs": [
    {
     "name": "stdout",
     "output_type": "stream",
     "text": [
      "\"c\" Cheese sandwich or \"v\" veggie sandwich: c\n",
      "\"c\" for cheddar or \"m\" for mozarellac\n",
      "Mozarella cheese sandwich, enjoy\n"
     ]
    }
   ],
   "source": [
    "sandwich_type = input('\"c\" Cheese sandwich or \"v\" veggie sandwich: ')\n",
    "\n",
    "if sandwich_type.lower() == \"c\":\n",
    "    \n",
    "    #select cheese type\n",
    "    cheese_type = input('\"c\" for cheddar or \"m\" for mozarella')\n",
    "    \n",
    "    if cheese_type.lower == \"c\":\n",
    "        print(\"Cheddar cheese sandwich, enjoy\")\n",
    "    else:\n",
    "        print(\"Mozarella cheese sandwich, enjoy\")\n",
    "\n",
    "else:\n",
    "    print(\"Here is your veggie special\")\n",
    "              "
   ]
  },
  {
   "cell_type": "markdown",
   "metadata": {},
   "source": [
    "# WHILE LOOP"
   ]
  },
  {
   "cell_type": "code",
   "execution_count": 6,
   "metadata": {},
   "outputs": [
    {
     "name": "stdout",
     "output_type": "stream",
     "text": [
      "Write till you see a break\n"
     ]
    }
   ],
   "source": [
    "while True:\n",
    "    print('Write till you see a break')\n",
    "    break"
   ]
  },
  {
   "cell_type": "code",
   "execution_count": 2,
   "metadata": {},
   "outputs": [
    {
     "name": "stdout",
     "output_type": "stream",
     "text": [
      "Enter a number 1 to 5: 1\n",
      "1 is wrong\n",
      "Enter a number 1 to 5: 5\n",
      "5 correct, you won\n"
     ]
    }
   ],
   "source": [
    "number_guess = \"0\"\n",
    "secret_number = \"5\"\n",
    "\n",
    "while True:\n",
    "    number_guess = input(\"Enter a number 1 to 5: \")\n",
    "    \n",
    "    if number_guess == secret_number:\n",
    "        print(secret_number, \"correct, you won\")\n",
    "        break\n",
    "        \n",
    "    else:\n",
    "        print(number_guess, \"is wrong\")"
   ]
  },
  {
   "cell_type": "code",
   "execution_count": 6,
   "metadata": {},
   "outputs": [
    {
     "name": "stdout",
     "output_type": "stream",
     "text": [
      "Enter first name: juhi D\n",
      "juhi D : is not a single word/incorrect\n",
      "Enter first name: juhi\n",
      "Welcome juhi\n"
     ]
    }
   ],
   "source": [
    "while True:\n",
    "    first_name = input(\"Enter first name: \")\n",
    "    \n",
    "    if first_name.isalpha():            #isalpha evaluates anything that is not a character/space\n",
    "        break\n",
    "    else:\n",
    "        print(first_name, \": is not a single word/incorrect\")\n",
    "print(\"Welcome\", first_name)"
   ]
  },
  {
   "cell_type": "markdown",
   "metadata": {},
   "source": [
    "# votes = votes + 1\n",
    "# votes += 1\n",
    "\n",
    "# same thing"
   ]
  },
  {
   "cell_type": "code",
   "execution_count": 12,
   "metadata": {},
   "outputs": [
    {
     "name": "stdout",
     "output_type": "stream",
     "text": [
      "5\n",
      "4\n"
     ]
    }
   ],
   "source": [
    "votes = 5\n",
    "print(votes)\n",
    "\n",
    "votes -= 1\n",
    "print(votes)\n",
    "\n"
   ]
  },
  {
   "cell_type": "code",
   "execution_count": 2,
   "metadata": {},
   "outputs": [
    {
     "name": "stdout",
     "output_type": "stream",
     "text": [
      "seat_count 1\n",
      "seat_count 2\n",
      "seat_count 3\n",
      "seat_count 4\n",
      "seat_count 5\n",
      "no seats remaining\n"
     ]
    }
   ],
   "source": [
    "seat_count = 0\n",
    "\n",
    "while True:\n",
    "    seat_count += 1\n",
    "    print(\"seat_count\",seat_count)\n",
    "    \n",
    "    if seat_count>=5:\n",
    "        print(\"no seats remaining\")\n",
    "        break"
   ]
  },
  {
   "cell_type": "code",
   "execution_count": 4,
   "metadata": {},
   "outputs": [
    {
     "name": "stdout",
     "output_type": "stream",
     "text": [
      "Seats remaining 4\n",
      "Seats remaining 3\n",
      "Seats remaining 2\n",
      "Seats remaining 1\n",
      "final remaining seat count 0\n"
     ]
    }
   ],
   "source": [
    "seat_count = 4\n",
    "\n",
    "while True:\n",
    "    print(\"Seats remaining\", seat_count)\n",
    "    seat_count -= 1\n",
    "    \n",
    "    if seat_count<=0:\n",
    "        print(\"final remaining seat count\", seat_count)\n",
    "        break"
   ]
  },
  {
   "cell_type": "markdown",
   "metadata": {},
   "source": [
    "# WHILE LOOP WITH BOOLEAN STRING TESTS AND COMPARISON OPERATORS"
   ]
  },
  {
   "cell_type": "code",
   "execution_count": 8,
   "metadata": {},
   "outputs": [
    {
     "name": "stdout",
     "output_type": "stream",
     "text": [
      "5 !\n",
      "4 !\n",
      "3 !\n",
      "2 !\n",
      "1 !\n",
      "\n",
      "ignition\n"
     ]
    }
   ],
   "source": [
    "greet_count = 5\n",
    "\n",
    "while greet_count > 0:\n",
    "    print(greet_count, \"!\")\n",
    "    greet_count -= 1\n",
    "    \n",
    "print(\"\\nignition\")"
   ]
  },
  {
   "cell_type": "code",
   "execution_count": 12,
   "metadata": {},
   "outputs": [
    {
     "name": "stdout",
     "output_type": "stream",
     "text": [
      "Seat Count 1\n",
      "Seat Count 2\n",
      "Seat Count 3\n",
      "Seat Count 4\n",
      "Seat Count 5\n",
      "Remaining seats zero\n"
     ]
    }
   ],
   "source": [
    "seat_count = 1\n",
    "\n",
    "while seat_count <= 5:\n",
    "    print(\"Seat Count\", seat_count)\n",
    "    seat_count = seat_count + 1\n",
    "    \n",
    "print(\"Remaining seats zero\")"
   ]
  },
  {
   "cell_type": "code",
   "execution_count": null,
   "metadata": {},
   "outputs": [],
   "source": []
  }
 ],
 "metadata": {
  "kernelspec": {
   "display_name": "Python 3",
   "language": "python",
   "name": "python3"
  },
  "language_info": {
   "codemirror_mode": {
    "name": "ipython",
    "version": 3
   },
   "file_extension": ".py",
   "mimetype": "text/x-python",
   "name": "python",
   "nbconvert_exporter": "python",
   "pygments_lexer": "ipython3",
   "version": "3.6.5"
  }
 },
 "nbformat": 4,
 "nbformat_minor": 2
}
