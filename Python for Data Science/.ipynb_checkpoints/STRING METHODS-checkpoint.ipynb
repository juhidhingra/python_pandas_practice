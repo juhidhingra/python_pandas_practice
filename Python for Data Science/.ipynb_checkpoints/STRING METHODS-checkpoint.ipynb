{
 "cells": [
  {
   "cell_type": "markdown",
   "metadata": {},
   "source": [
    "# Length - Len()"
   ]
  },
  {
   "cell_type": "code",
   "execution_count": 2,
   "metadata": {},
   "outputs": [
    {
     "name": "stdout",
     "output_type": "stream",
     "text": [
      "The number of characters are:\n"
     ]
    },
    {
     "data": {
      "text/plain": [
       "14"
      ]
     },
     "execution_count": 2,
     "metadata": {},
     "output_type": "execute_result"
    }
   ],
   "source": [
    "work_tip = \"Save your code\"\n",
    "\n",
    "print(\"The number of characters are:\")\n",
    "len(work_tip)"
   ]
  },
  {
   "cell_type": "code",
   "execution_count": 4,
   "metadata": {},
   "outputs": [
    {
     "name": "stdout",
     "output_type": "stream",
     "text": [
      "Save your code and a good\n",
      " code is a commented code\n"
     ]
    }
   ],
   "source": [
    "work_tip = \"Save your code and a good code is a commented code\"\n",
    "\n",
    "length = len(work_tip)\n",
    "mid_point = int(length/2)\n",
    "\n",
    "print (work_tip[:mid_point])\n",
    "print (work_tip[mid_point:])"
   ]
  },
  {
   "cell_type": "markdown",
   "metadata": {},
   "source": [
    "# COUNT"
   ]
  },
  {
   "cell_type": "code",
   "execution_count": 8,
   "metadata": {},
   "outputs": [
    {
     "name": "stdout",
     "output_type": "stream",
     "text": [
      "Letter C occurences:\n"
     ]
    },
    {
     "data": {
      "text/plain": [
       "4"
      ]
     },
     "execution_count": 8,
     "metadata": {},
     "output_type": "execute_result"
    }
   ],
   "source": [
    "work_tip = \"Save your code and a good code is a commented code\"\n",
    "\n",
    "print(\"Letter C occurences:\")\n",
    "work_tip.count(\"c\")"
   ]
  },
  {
   "cell_type": "code",
   "execution_count": 9,
   "metadata": {},
   "outputs": [
    {
     "name": "stdout",
     "output_type": "stream",
     "text": [
      "Letter C occurences: 4\n"
     ]
    }
   ],
   "source": [
    "work_tip = \"Save your code and a good code is a commented code\"\n",
    "\n",
    "print(\"Letter C occurences:\", work_tip.count(\"c\"))\n"
   ]
  },
  {
   "cell_type": "code",
   "execution_count": 17,
   "metadata": {},
   "outputs": [
    {
     "name": "stdout",
     "output_type": "stream",
     "text": [
      "Save your code \n",
      "Y's in the first half\n",
      "1\n",
      "and a good code is a commented code\n",
      "C's in the first half\n",
      "3\n"
     ]
    }
   ],
   "source": [
    "work_tip = \"Save your code and a good code is a commented code\"\n",
    "\n",
    "print(work_tip[:15])\n",
    "print(\"Y's in the first half\")\n",
    "print(work_tip[:15].count(\"y\"))\n",
    "\n",
    "print(work_tip[15:])\n",
    "print(\"C's in the first half\")\n",
    "print(work_tip[15:].count(\"c\"))"
   ]
  },
  {
   "cell_type": "markdown",
   "metadata": {},
   "source": [
    "# INDEX"
   ]
  },
  {
   "cell_type": "code",
   "execution_count": 18,
   "metadata": {},
   "outputs": [],
   "source": [
    "# \"\\n\" is a Python literal which is ASCII Linefeed (LF) it means a newline in a string. "
   ]
  },
  {
   "cell_type": "code",
   "execution_count": 20,
   "metadata": {},
   "outputs": [
    {
     "name": "stdout",
     "output_type": "stream",
     "text": [
      "Find the index of your first space\n",
      "4 \n",
      "\n"
     ]
    }
   ],
   "source": [
    "work_tip = \"Save your code and a good code is a commented code\"\n",
    "\n",
    "print(\"Find the index of your first space\")\n",
    "\n",
    "print(work_tip.find(\" \"), \"\\n\")\n"
   ]
  },
  {
   "cell_type": "code",
   "execution_count": 23,
   "metadata": {},
   "outputs": [
    {
     "name": "stdout",
     "output_type": "stream",
     "text": [
      "Good code has meaningful variables\n",
      "5 is the index of the word code\n"
     ]
    }
   ],
   "source": [
    "work_tip = \"Good code has meaningful variables\"\n",
    "\n",
    "print(work_tip)\n",
    "\n",
    "code_position = work_tip.find(\"code\")\n",
    "print(code_position, \"is the index of the word code\")"
   ]
  },
  {
   "cell_type": "code",
   "execution_count": 36,
   "metadata": {},
   "outputs": [
    {
     "name": "stdout",
     "output_type": "stream",
     "text": [
      "Work_tip: Good code has meaningful variables and good code is commented \n",
      "\n",
      "C is at index: 5\n",
      "C is at index: 44\n",
      "C is at index: 52\n",
      "\n",
      "No more C's\n"
     ]
    }
   ],
   "source": [
    "work_tip = \"Good code has meaningful variables and good code is commented\"\n",
    "\n",
    "print(\"Work_tip:\", work_tip, \"\\n\")\n",
    "\n",
    "location = work_tip.find(\"c\")\n",
    "\n",
    "while location >= 0:\n",
    "    print(\"C is at index:\", location)\n",
    "    \n",
    "    location = work_tip.find(\"c\", location + 1)\n",
    "    \n",
    "print(\"\\nNo more C's\")\n",
    "    \n",
    "    "
   ]
  },
  {
   "cell_type": "markdown",
   "metadata": {},
   "source": [
    "# .find() - start index and end index"
   ]
  },
  {
   "cell_type": "code",
   "execution_count": 59,
   "metadata": {},
   "outputs": [
    {
     "name": "stdout",
     "output_type": "stream",
     "text": [
      "Search for code in the string: Good code has meaningful variables and good code is commented \n",
      "\n",
      "Code is at index: 5\n"
     ]
    }
   ],
   "source": [
    "work_tip = \"Good code has meaningful variables and good code is commented\"\n",
    "\n",
    "print(\"Search for code in the string:\", work_tip[:], \"\\n\")\n",
    "\n",
    "print(\"Code is at index:\",work_tip.find(\"code\"))\n",
    "\n"
   ]
  },
  {
   "cell_type": "markdown",
   "metadata": {},
   "source": [
    "# ASSIGNMENT "
   ]
  },
  {
   "cell_type": "code",
   "execution_count": 64,
   "metadata": {},
   "outputs": [],
   "source": [
    "# Sample input - enter : Wheresoever you go, go with all your heart\n",
    "\n",
    "quote_of_the_day = \"Wheresoever you go, go with all your heart\"\n",
    "\n",
    "word = quote_of_the_day.find(\"h\")\n",
    "\n",
    "\n",
    "    \n"
   ]
  },
  {
   "cell_type": "code",
   "execution_count": null,
   "metadata": {},
   "outputs": [],
   "source": []
  }
 ],
 "metadata": {
  "kernelspec": {
   "display_name": "Python 3",
   "language": "python",
   "name": "python3"
  },
  "language_info": {
   "codemirror_mode": {
    "name": "ipython",
    "version": 3
   },
   "file_extension": ".py",
   "mimetype": "text/x-python",
   "name": "python",
   "nbconvert_exporter": "python",
   "pygments_lexer": "ipython3",
   "version": "3.6.5"
  }
 },
 "nbformat": 4,
 "nbformat_minor": 2
}
