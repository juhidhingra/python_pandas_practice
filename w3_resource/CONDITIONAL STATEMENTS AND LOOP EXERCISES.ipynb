{
 "cells": [
  {
   "cell_type": "code",
   "execution_count": 1,
   "metadata": {},
   "outputs": [],
   "source": [
    "import pandas as pd\n",
    "import numpy as np"
   ]
  },
  {
   "cell_type": "markdown",
   "metadata": {},
   "source": [
    "# FOR LOOPS"
   ]
  },
  {
   "cell_type": "code",
   "execution_count": 2,
   "metadata": {},
   "outputs": [],
   "source": [
    "dog = ['Freddie', 9, True, 1.1, 2001, ['bone', 'little ball']]"
   ]
  },
  {
   "cell_type": "code",
   "execution_count": 3,
   "metadata": {},
   "outputs": [
    {
     "name": "stdout",
     "output_type": "stream",
     "text": [
      "Freddie\n",
      "9\n",
      "True\n",
      "1.1\n",
      "2001\n",
      "['bone', 'little ball']\n"
     ]
    }
   ],
   "source": [
    "for i in dog:\n",
    "    print(i)"
   ]
  },
  {
   "cell_type": "code",
   "execution_count": 4,
   "metadata": {},
   "outputs": [],
   "source": [
    "numbers = [1, 5, 12, 91, 102]"
   ]
  },
  {
   "cell_type": "code",
   "execution_count": 5,
   "metadata": {},
   "outputs": [
    {
     "name": "stdout",
     "output_type": "stream",
     "text": [
      "1\n",
      "25\n",
      "144\n",
      "8281\n",
      "10404\n"
     ]
    }
   ],
   "source": [
    "for i in numbers:\n",
    "    print(i*i)"
   ]
  },
  {
   "cell_type": "markdown",
   "metadata": {},
   "source": [
    "# for and in are Python keywords and numbers is the name of our list"
   ]
  },
  {
   "cell_type": "markdown",
   "metadata": {},
   "source": [
    "# i variable. It’s a “temporary” variable and its only role is to store the given element of the list that we will work with in the given iteration of the loop."
   ]
  },
  {
   "cell_type": "markdown",
   "metadata": {},
   "source": [
    "# don’t forget that you have to refer to it when you want to use it inside the loop"
   ]
  },
  {
   "cell_type": "markdown",
   "metadata": {},
   "source": [
    "# iterate through strings"
   ]
  },
  {
   "cell_type": "code",
   "execution_count": 6,
   "metadata": {},
   "outputs": [],
   "source": [
    "mylist = [\"hello world\"]"
   ]
  },
  {
   "cell_type": "code",
   "execution_count": 7,
   "metadata": {},
   "outputs": [
    {
     "name": "stdout",
     "output_type": "stream",
     "text": [
      "hello world\n"
     ]
    }
   ],
   "source": [
    "for i in mylist:\n",
    "    print(i)"
   ]
  },
  {
   "cell_type": "markdown",
   "metadata": {},
   "source": [
    "# iterate through range"
   ]
  },
  {
   "cell_type": "code",
   "execution_count": 8,
   "metadata": {},
   "outputs": [
    {
     "name": "stdout",
     "output_type": "stream",
     "text": [
      "1\n",
      "2\n",
      "3\n",
      "4\n",
      "5\n",
      "6\n",
      "7\n",
      "8\n",
      "9\n"
     ]
    }
   ],
   "source": [
    "myrange = range(1,10)\n",
    "\n",
    "for i in myrange:\n",
    "    print(i)"
   ]
  },
  {
   "cell_type": "code",
   "execution_count": 9,
   "metadata": {},
   "outputs": [
    {
     "name": "stdout",
     "output_type": "stream",
     "text": [
      "1\n",
      "3\n",
      "5\n",
      "7\n",
      "9\n",
      "11\n",
      "13\n",
      "15\n",
      "17\n",
      "19\n"
     ]
    }
   ],
   "source": [
    "myrange1 = range(1,20,2)\n",
    "\n",
    "for i in myrange1:\n",
    "    print(i)"
   ]
  },
  {
   "cell_type": "markdown",
   "metadata": {},
   "source": [
    "# count the number of even and odd numbers from a series of numbers"
   ]
  },
  {
   "cell_type": "markdown",
   "metadata": {},
   "source": [
    "# number divided by 2 = 0 even\n",
    "# number divided by 2 != 0 odd"
   ]
  },
  {
   "cell_type": "code",
   "execution_count": 10,
   "metadata": {},
   "outputs": [],
   "source": [
    "# Declaring the tuple"
   ]
  },
  {
   "cell_type": "code",
   "execution_count": 11,
   "metadata": {},
   "outputs": [
    {
     "data": {
      "text/plain": [
       "5"
      ]
     },
     "execution_count": 11,
     "metadata": {},
     "output_type": "execute_result"
    }
   ],
   "source": [
    "numbers = (1, 2, 3, 4, 5, 6, 7, 8, 9) \n",
    "count_odd = 0\n",
    "count_even = 0\n",
    "\n",
    "for x in numbers:\n",
    "    if not x % 2:\n",
    "        count_even = count_even + 1\n",
    "    else:\n",
    "        count_odd = count_odd + 1\n",
    "        \n",
    "count_odd\n"
   ]
  },
  {
   "cell_type": "code",
   "execution_count": 12,
   "metadata": {},
   "outputs": [],
   "source": [
    "# prints each item and its corresponding type from the following list.\n",
    "\n",
    "datalist = [1452, 11.23, 1+2j, True, 'w3resource', (0, -1), [5, 12], {\"class\":'V', \"section\":'A'}]\n",
    "    "
   ]
  },
  {
   "cell_type": "code",
   "execution_count": 13,
   "metadata": {},
   "outputs": [
    {
     "name": "stdout",
     "output_type": "stream",
     "text": [
      "The datatype for 1452 in the datalist: <class 'int'>\n",
      "The datatype for 11.23 in the datalist: <class 'float'>\n",
      "The datatype for (1+2j) in the datalist: <class 'complex'>\n",
      "The datatype for True in the datalist: <class 'bool'>\n",
      "The datatype for w3resource in the datalist: <class 'str'>\n",
      "The datatype for (0, -1) in the datalist: <class 'tuple'>\n",
      "The datatype for [5, 12] in the datalist: <class 'list'>\n",
      "The datatype for {'class': 'V', 'section': 'A'} in the datalist: <class 'dict'>\n"
     ]
    }
   ],
   "source": [
    "for item in datalist:\n",
    "    print(\"The datatype for\", item, \"in the datalist:\", type(item))"
   ]
  },
  {
   "cell_type": "markdown",
   "metadata": {},
   "source": [
    "# prints all the numbers from 0 to 6 except 3 and 6"
   ]
  },
  {
   "cell_type": "code",
   "execution_count": 14,
   "metadata": {},
   "outputs": [
    {
     "name": "stdout",
     "output_type": "stream",
     "text": [
      "0\n",
      "1\n",
      "2\n",
      "4\n",
      "5\n"
     ]
    }
   ],
   "source": [
    "for x in range(0,6):\n",
    "    if (x == 3 or x == 6):\n",
    "        continue\n",
    "    print(x)\n"
   ]
  },
  {
   "cell_type": "markdown",
   "metadata": {},
   "source": [
    "# program which iterates the integers from 1 to 50. For multiples of three print \"Fizz\" instead of the number and for the multiples of five print \"Buzz\". For numbers which are multiples of both three and five print \"FizzBuzz\"."
   ]
  },
  {
   "cell_type": "code",
   "execution_count": 15,
   "metadata": {},
   "outputs": [
    {
     "name": "stdout",
     "output_type": "stream",
     "text": [
      "FizzBuzz\n",
      "FizzBuzz\n",
      "FizzBuzz\n",
      "Fizz\n",
      "FizzBuzz\n",
      "Buzz\n",
      "Fizz\n",
      "FizzBuzz\n",
      "FizzBuzz\n",
      "Fizz\n",
      "Buzz\n",
      "FizzBuzz\n",
      "Fizz\n",
      "FizzBuzz\n",
      "FizzBuzz\n",
      "FizzBuzz\n",
      "FizzBuzz\n",
      "FizzBuzz\n",
      "Fizz\n",
      "FizzBuzz\n",
      "Buzz\n",
      "Fizz\n",
      "FizzBuzz\n",
      "FizzBuzz\n",
      "Fizz\n",
      "Buzz\n",
      "FizzBuzz\n",
      "Fizz\n",
      "FizzBuzz\n",
      "FizzBuzz\n",
      "FizzBuzz\n",
      "FizzBuzz\n",
      "FizzBuzz\n",
      "Fizz\n",
      "FizzBuzz\n",
      "Buzz\n",
      "Fizz\n",
      "FizzBuzz\n",
      "FizzBuzz\n",
      "Fizz\n",
      "Buzz\n",
      "FizzBuzz\n",
      "Fizz\n",
      "FizzBuzz\n",
      "FizzBuzz\n",
      "FizzBuzz\n",
      "FizzBuzz\n",
      "FizzBuzz\n",
      "Fizz\n",
      "FizzBuzz\n"
     ]
    }
   ],
   "source": [
    "for integers in range(0,50):\n",
    "    if integers % 3 == 0 and integers % 5 == 0:\n",
    "        print(\"FizzBuzz\")\n",
    "        continue\n",
    "    elif integers % 3 == 0:\n",
    "        print(\"Fizz\")\n",
    "        continue\n",
    "    elif integers % 5 == 0:\n",
    "        print(\"Buzz\")\n",
    "        continue\n",
    "    print(\"FizzBuzz\")\n",
    "        "
   ]
  },
  {
   "cell_type": "markdown",
   "metadata": {},
   "source": [
    "# continue forces the loop to start at the next iteration while pass means \"there is no code to execute here\""
   ]
  },
  {
   "cell_type": "markdown",
   "metadata": {},
   "source": [
    "# program that accepts a string and calculate the number of digits and letters"
   ]
  },
  {
   "cell_type": "code",
   "execution_count": 16,
   "metadata": {},
   "outputs": [
    {
     "name": "stdout",
     "output_type": "stream",
     "text": [
      "Enter a string:7\n",
      "Number of digit: 1\n",
      "Number of letters: 0\n"
     ]
    }
   ],
   "source": [
    "mystring = input(\"Enter a string:\")\n",
    "\n",
    "digit = letter = 0\n",
    "\n",
    "\n",
    "for x in mystring:\n",
    "    if x.isdigit():\n",
    "        digit = digit + 1\n",
    "    elif x.isalpha():\n",
    "        letter = letter + 1\n",
    "    else:\n",
    "        pass\n",
    "\n",
    "print(\"Number of digit:\",digit)\n",
    "print(\"Number of letters:\",letter)"
   ]
  },
  {
   "cell_type": "markdown",
   "metadata": {},
   "source": [
    "# print alphabet pattern 'T'"
   ]
  },
  {
   "cell_type": "code",
   "execution_count": 17,
   "metadata": {},
   "outputs": [
    {
     "name": "stdout",
     "output_type": "stream",
     "text": [
      " ***** \n",
      "   *   \n",
      "   *   \n",
      "   *   \n",
      "   *   \n",
      "   *   \n",
      "   *   \n",
      "\n"
     ]
    }
   ],
   "source": [
    "result_str=\"\"\n",
    "for row in range(0,7):    \n",
    "    for column in range(0,7):     \n",
    "        if (column == 3 or (row == 0 and column > 0 and column <6)):  \n",
    "            result_str=result_str+\"*\"    \n",
    "        else:      \n",
    "            result_str=result_str+\" \"    \n",
    "    result_str=result_str+\"\\n\"    \n",
    "print(result_str);\n",
    "    "
   ]
  },
  {
   "cell_type": "code",
   "execution_count": 18,
   "metadata": {},
   "outputs": [
    {
     "name": "stdout",
     "output_type": "stream",
     "text": [
      "*\n",
      "*\n",
      "*\n",
      "*\n",
      "*\n",
      "*\n",
      "******\n",
      "\n"
     ]
    }
   ],
   "source": [
    "my_string = \"\"\n",
    "\n",
    "for row in range(0,7):\n",
    "    for column in range(0,7):\n",
    "        if (column == 0 or (row == 6 and column > 0 and column < 6) ):\n",
    "            my_string = my_string + \"*\"\n",
    "        else:\n",
    "            my_string = my_string + \"\"\n",
    "    my_string = my_string + \"\\n\"\n",
    "print(my_string)"
   ]
  },
  {
   "cell_type": "code",
   "execution_count": 3,
   "metadata": {},
   "outputs": [
    {
     "name": "stdout",
     "output_type": "stream",
     "text": [
      " *   * \n",
      " *   * \n",
      " *   * \n",
      " *   * \n",
      " *   * \n",
      " *   * \n",
      "  ***  \n",
      "\n"
     ]
    }
   ],
   "source": [
    "my_string = \"\"\n",
    "\n",
    "for row in range(0,7):\n",
    "    for column in range(0,7):\n",
    "        if (((column == 1 or column == 5) and row != 6 or (row == 6 and column > 1 and column < 5))):\n",
    "            my_string = my_string + \"*\"\n",
    "        else:\n",
    "            my_string = my_string + \" \"\n",
    "    my_string = my_string + \"\\n\"\n",
    "print(my_string)"
   ]
  },
  {
   "cell_type": "code",
   "execution_count": 48,
   "metadata": {},
   "outputs": [
    {
     "name": "stdout",
     "output_type": "stream",
     "text": [
      "****** \n",
      "*    * \n",
      "*    * \n",
      "*    * \n",
      "*    * \n",
      "*    * \n",
      " ****  \n",
      "\n"
     ]
    }
   ],
   "source": [
    "mystring = \"\"\n",
    "\n",
    "for row in range(0,7):\n",
    "    for column in range(0,7):\n",
    "        if((column == 0 or column == 5)and row!= 6 or (row == 0 and (column > 0 and column < 5)) or (row == 6 and (column > 0 and column < 5))):\n",
    "            mystring = mystring + \"*\"\n",
    "        else:\n",
    "            mystring = mystring + \" \"\n",
    "    mystring = mystring + \"\\n\"\n",
    "print(mystring)"
   ]
  },
  {
   "cell_type": "code",
   "execution_count": 52,
   "metadata": {},
   "outputs": [
    {
     "name": "stdout",
     "output_type": "stream",
     "text": [
      " ****  \n",
      " *   * \n",
      " *   * \n",
      " *   * \n",
      " *   * \n",
      " *   * \n",
      " ****  \n",
      "\n"
     ]
    }
   ],
   "source": [
    "result_str=\"\";    \n",
    "for row in range(0,7):    \n",
    "    for column in range(0,7):     \n",
    "        if (column == 1 or ((row == 0 or row == 6) and (column > 1 and column < 5)) or (column == 5 and row != 0 and row != 6)):  \n",
    "            result_str=result_str+\"*\"    \n",
    "        else:      \n",
    "            result_str=result_str+\" \"    \n",
    "    result_str=result_str+\"\\n\"    \n",
    "print(result_str);"
   ]
  },
  {
   "cell_type": "markdown",
   "metadata": {},
   "source": [
    "# check whether an alphabet is a vowel or consonant"
   ]
  },
  {
   "cell_type": "code",
   "execution_count": 20,
   "metadata": {},
   "outputs": [
    {
     "name": "stdout",
     "output_type": "stream",
     "text": [
      "Input a letter of the alphabet: j\n",
      "j consonant.\n"
     ]
    }
   ],
   "source": [
    "l = input(\"Input a letter of the alphabet: \")\n",
    "\n",
    "if l.lower() in ('a', 'e', 'i', 'o', 'u'):\n",
    "    print(\"%s vowel.\" % l)\n",
    "elif l == 'y':\n",
    "    print(\"Sometimes letter y stand for vowel, sometimes stand for consonant.\")\n",
    "else:\n",
    "    print(\"%s consonant.\" % l) \n",
    "    "
   ]
  },
  {
   "cell_type": "code",
   "execution_count": 21,
   "metadata": {},
   "outputs": [
    {
     "name": "stdout",
     "output_type": "stream",
     "text": [
      "Enter the alphapets to check vowel or not:g\n",
      "g is not vowel\n"
     ]
    }
   ],
   "source": [
    "char=input('Enter the alphapets to check vowel or not:')\n",
    "\n",
    "if char in ('aeiouAEIOU'):\n",
    "    print(char,'is vowel')\n",
    "elif char == 'y':\n",
    "    print(char, \"is sometimes vowel, sometimes consonant\")\n",
    "else:\n",
    "    print(char,'is not vowel')"
   ]
  },
  {
   "cell_type": "markdown",
   "metadata": {},
   "source": [
    "# convert month name to a number of days."
   ]
  },
  {
   "cell_type": "code",
   "execution_count": 22,
   "metadata": {},
   "outputs": [
    {
     "name": "stdout",
     "output_type": "stream",
     "text": [
      "List of months: January, February, March, April, May, June, July, August, September, October, November, December\n"
     ]
    }
   ],
   "source": [
    "print(\"List of months: January, February, March, April, May, June, July, August, September, October, November, December\")"
   ]
  },
  {
   "cell_type": "code",
   "execution_count": 27,
   "metadata": {},
   "outputs": [
    {
     "name": "stdout",
     "output_type": "stream",
     "text": [
      "Input month name:January\n",
      "31 days\n"
     ]
    }
   ],
   "source": [
    "month_name = input(\"Input month name:\")\n",
    "\n",
    "if month_name == 'Febraury':\n",
    "    print(\"28/29 days\")\n",
    "elif month_name in (\"April\",\"June\",\"September\",\"November\"):\n",
    "    print(\"30 days\")\n",
    "elif month_name in (\"January\",\"March\",\"May\",\"July\",\"August\",\"October\",\"December\"):\n",
    "    print(\"31 days\") \n",
    "else:\n",
    "    print(\"Incorrect month input\")"
   ]
  },
  {
   "cell_type": "code",
   "execution_count": 31,
   "metadata": {},
   "outputs": [
    {
     "name": "stdout",
     "output_type": "stream",
     "text": [
      "Month: March\n",
      "31\n"
     ]
    }
   ],
   "source": [
    "calendar = {\"January\": 31, \n",
    "            \"February\": 28, \n",
    "            \"March\": 31, \n",
    "            \"April\": 30, \n",
    "            \"May\": 31,\n",
    "            \"June\": 30, \n",
    "            \"July\": 31, \n",
    "            \"August\": 31, \n",
    "            \"September\": 30, \n",
    "            \"October\": 31,\n",
    "            \"November\": 30, \n",
    "            \"December\":31}\n",
    "month = input(\"Month: \")\n",
    "\n",
    "if month in calendar:\n",
    "    print(calendar[month])\n",
    "else:\n",
    "    print(\"Error\")"
   ]
  },
  {
   "cell_type": "markdown",
   "metadata": {},
   "source": [
    "# check a string represent an integer or not"
   ]
  },
  {
   "cell_type": "code",
   "execution_count": 58,
   "metadata": {},
   "outputs": [
    {
     "name": "stdout",
     "output_type": "stream",
     "text": [
      "Enter a number:juhi\n",
      "Please enter only integer\n",
      "juhi is not an integer\n"
     ]
    }
   ],
   "source": [
    "myinteger = input(\"Enter a number:\")\n",
    "\n",
    "for num in myinteger:\n",
    "    if num.isdigit():\n",
    "        continue\n",
    "    else:\n",
    "        print(\"Please enter only integer\")\n",
    "    break\n",
    "print(myinteger, \"is not an integer\")"
   ]
  },
  {
   "cell_type": "code",
   "execution_count": 4,
   "metadata": {},
   "outputs": [
    {
     "name": "stdout",
     "output_type": "stream",
     "text": [
      "Enter lengths of triangle side:\n",
      "Enter length of x:5\n",
      "Enter length of y:5\n",
      "Enter length of z:6\n",
      "Isoceles triangle\n"
     ]
    }
   ],
   "source": [
    "print(\"Enter lengths of triangle side:\")\n",
    "\n",
    "x = int(input(\"Enter length of x:\"))\n",
    "y = int(input(\"Enter length of y:\"))\n",
    "z = int(input(\"Enter length of z:\"))\n",
    "\n",
    "if x == y == z:\n",
    "    print(\"Equailateral triangle\")\n",
    "elif x == y or y == z or z == x:\n",
    "    print(\"Isoceles triangle\")\n",
    "else:\n",
    "    print(\"Scalene triangle\")"
   ]
  },
  {
   "cell_type": "markdown",
   "metadata": {},
   "source": [
    "# reads two integers representing a month and day and prints the season for that month and day."
   ]
  },
  {
   "cell_type": "code",
   "execution_count": 16,
   "metadata": {},
   "outputs": [
    {
     "name": "stdout",
     "output_type": "stream",
     "text": [
      "Month: October\n",
      "Autumn\n"
     ]
    }
   ],
   "source": [
    "month = input(\"Month: \")\n",
    "season_dict = {\"Spring\": [\"March\", \"April\", \"May\"], \n",
    "               \"Summer\": [\"June\", \"July\", \"August\"], \n",
    "               \"Autumn\": [\"September\", \"October\", \"November\"], \n",
    "               \"Winter\": [\"December\", \"January\", \"February\"]}\n",
    "\n",
    "for key, value in season_dict.items():\n",
    "    for i in value:\n",
    "        if month in i:\n",
    "            print(key)"
   ]
  },
  {
   "cell_type": "code",
   "execution_count": 1,
   "metadata": {},
   "outputs": [
    {
     "name": "stdout",
     "output_type": "stream",
     "text": [
      "Input the month (e.g. January, February etc.): March\n",
      "winter\n"
     ]
    }
   ],
   "source": [
    "month = input(\"Input the month (e.g. January, February etc.): \")\n",
    "\n",
    "if month in (\"January\",\"Febraury\",\"March\"):\n",
    "    season = 'winter'\n",
    "elif month in (\"April\",\"May\",\"June\"):\n",
    "    season = 'spring'\n",
    "elif month in ('July','August','September'):\n",
    "    season = 'Summer'\n",
    "else:\n",
    "    season = 'Autumn'\n",
    "print(season)"
   ]
  },
  {
   "cell_type": "code",
   "execution_count": 3,
   "metadata": {},
   "outputs": [
    {
     "name": "stdout",
     "output_type": "stream",
     "text": [
      "input a number: 34\n",
      "input a number: 33\n",
      "input a number: 0\n",
      "The sum is: 67, and the average is: 33.5\n"
     ]
    }
   ],
   "source": [
    "num_list = []\n",
    "\n",
    "\n",
    "while True:\n",
    "    n = int(input('input a number: '))\n",
    "    if n == 0:\n",
    "        break\n",
    "    num_list.append(n)\n",
    "\n",
    "sum_num = sum(num_list) # sum of num_list\n",
    "ave_num = sum_num / len(num_list) # sum/total numbers\n",
    "\n",
    "print('The sum is: {}, and the average is: {}'.format(sum_num, ave_num))"
   ]
  },
  {
   "cell_type": "code",
   "execution_count": 5,
   "metadata": {},
   "outputs": [
    {
     "name": "stdout",
     "output_type": "stream",
     "text": [
      "\n",
      "1\n",
      "22\n",
      "333\n",
      "4444\n",
      "55555\n",
      "666666\n",
      "7777777\n",
      "88888888\n",
      "999999999\n"
     ]
    }
   ],
   "source": [
    "for i in range(0,10):\n",
    "    print(str(i)*i)"
   ]
  },
  {
   "cell_type": "markdown",
   "metadata": {},
   "source": [
    "# WHILE LOOPS"
   ]
  },
  {
   "cell_type": "code",
   "execution_count": 18,
   "metadata": {},
   "outputs": [
    {
     "name": "stdout",
     "output_type": "stream",
     "text": [
      "0\n",
      "1\n",
      "2\n",
      "3\n",
      "4\n",
      "5\n",
      "6\n",
      "7\n",
      "8\n",
      "9\n"
     ]
    }
   ],
   "source": [
    "count = 0\n",
    "while True:\n",
    "    print (count)\n",
    "    count = count + 1\n",
    "    if count >= 10:\n",
    "        break"
   ]
  },
  {
   "cell_type": "code",
   "execution_count": 20,
   "metadata": {},
   "outputs": [
    {
     "name": "stdout",
     "output_type": "stream",
     "text": [
      "i am a while loop and my count is 1\n",
      "i am a while loop and my count is 2\n",
      "i am a while loop and my count is 3\n",
      "i am a while loop and my count is 4\n",
      "i am a while loop and my count is 5\n",
      "i am a while loop and my count is 6\n",
      "i am a while loop and my count is 7\n",
      "i am a while loop and my count is 8\n",
      "i am a while loop and my count is 9\n"
     ]
    }
   ],
   "source": [
    "count = 1\n",
    "while count<10:\n",
    "    print(\"i am a while loop and my count is\",count)\n",
    "    count = count + 1"
   ]
  },
  {
   "cell_type": "code",
   "execution_count": 30,
   "metadata": {},
   "outputs": [
    {
     "name": "stdout",
     "output_type": "stream",
     "text": [
      "0\n",
      "1\n",
      "4\n",
      "9\n",
      "16\n",
      "25\n",
      "36\n",
      "49\n",
      "64\n",
      "81\n"
     ]
    }
   ],
   "source": [
    "# Fill in the condition\n",
    "\n",
    "num = 0\n",
    "\n",
    "while num < 10:\n",
    "    # Print num squared\n",
    "    print (num ** 2)\n",
    "    \n",
    "    # Increment num (make sure to do this!)\n",
    "    num = num + 1"
   ]
  },
  {
   "cell_type": "code",
   "execution_count": 36,
   "metadata": {},
   "outputs": [
    {
     "name": "stdout",
     "output_type": "stream",
     "text": [
      "Happy new year joseph\n",
      "Happy new year jenny\n",
      "Happy new year juhi\n",
      "Happy new year johana\n"
     ]
    }
   ],
   "source": [
    "friends = ['joseph','jenny','juhi','johana']\n",
    "\n",
    "for friend in friends:\n",
    "    print(\"Happy new year\",friend)\n"
   ]
  },
  {
   "cell_type": "markdown",
   "metadata": {},
   "source": [
    "# ENUMERATE FUNCTION"
   ]
  },
  {
   "cell_type": "markdown",
   "metadata": {},
   "source": [
    "\n",
    "\n",
    "# for-each style of iteration is that you don't know the index of the thing you're looking at"
   ]
  },
  {
   "cell_type": "markdown",
   "metadata": {},
   "source": [
    "# at times it is useful to know how far into the list you are. Thankfully the built-in enumerate function helps with this"
   ]
  },
  {
   "cell_type": "code",
   "execution_count": 43,
   "metadata": {},
   "outputs": [
    {
     "name": "stdout",
     "output_type": "stream",
     "text": [
      "Your choices are:\n",
      "0 pizza\n",
      "1 pasta\n",
      "2 salad\n",
      "3 nachos\n"
     ]
    }
   ],
   "source": [
    "choices = ['pizza', 'pasta', 'salad', 'nachos']\n",
    "print(\"Your choices are:\")\n",
    "\n",
    "for index, item in enumerate(choices):\n",
    "    print(index,item)"
   ]
  },
  {
   "cell_type": "code",
   "execution_count": 44,
   "metadata": {},
   "outputs": [
    {
     "name": "stdout",
     "output_type": "stream",
     "text": [
      "Todays lucky numbers are:\n",
      "0 23\n",
      "1 43\n",
      "2 83\n",
      "3 103\n"
     ]
    }
   ],
   "source": [
    "lucky_num = [23, 43, 83, 103]\n",
    "print(\"Todays lucky numbers are:\")\n",
    "\n",
    "for index, num in enumerate(lucky_num):\n",
    "    print(index,num)"
   ]
  },
  {
   "cell_type": "markdown",
   "metadata": {},
   "source": [
    "# ZIP FUNCTION"
   ]
  },
  {
   "cell_type": "markdown",
   "metadata": {},
   "source": [
    "# It's also common to need to iterate over two lists at once. it can handle three or more lists as well.This is where the built-in zip function comes in handy."
   ]
  },
  {
   "cell_type": "code",
   "execution_count": 48,
   "metadata": {},
   "outputs": [],
   "source": [
    "list_a = [3, 9, 17, 15, 19,66,89,77]\n",
    "list_b = [2, 4, 8, 10, 30, 40, 50, 60]"
   ]
  },
  {
   "cell_type": "code",
   "execution_count": 49,
   "metadata": {},
   "outputs": [
    {
     "name": "stdout",
     "output_type": "stream",
     "text": [
      "3\n",
      "9\n",
      "17\n",
      "15\n",
      "30\n",
      "66\n",
      "89\n",
      "77\n"
     ]
    }
   ],
   "source": [
    "for a, b in zip(list_a, list_b):\n",
    "    if a>b:\n",
    "        print (a)\n",
    "    else:\n",
    "        print (b)"
   ]
  },
  {
   "cell_type": "code",
   "execution_count": null,
   "metadata": {},
   "outputs": [],
   "source": [
    "fruits = ['banana', 'apple', 'orange', 'tomato', 'pear', 'grape']\n",
    "\n",
    "for item in fruits:\n",
    "    if item == \"carrot\":\n",
    "        print(\"carrot is not a fruit\")\n",
    "        break\n",
    "    print(item)\n",
    "else:\n",
    "    print(\"fine collection of fruits\")\n",
    "        \n",
    "        "
   ]
  },
  {
   "cell_type": "markdown",
   "metadata": {},
   "source": [
    "# # convert pound into kilograms"
   ]
  },
  {
   "cell_type": "code",
   "execution_count": 3,
   "metadata": {},
   "outputs": [
    {
     "name": "stdout",
     "output_type": "stream",
     "text": [
      "Enter weight in pounds:110\n",
      "110 is 49.940000000000005 kilograms\n"
     ]
    }
   ],
   "source": [
    "pound_1 = int(input(\"Enter weight in pounds:\"))\n",
    "\n",
    "weight_kg = pound_1 * 0.454\n",
    "\n",
    "print(pound_1,\"is\",weight_kg,\"kilograms\")"
   ]
  },
  {
   "cell_type": "markdown",
   "metadata": {},
   "source": [
    "# generates a random number (0-10) and ask you to guess it. You have three asserts\n"
   ]
  },
  {
   "cell_type": "code",
   "execution_count": 4,
   "metadata": {},
   "outputs": [],
   "source": [
    "from random import randint"
   ]
  },
  {
   "cell_type": "markdown",
   "metadata": {},
   "source": [
    "# Generates a number from 1 through 10 inclusive"
   ]
  },
  {
   "cell_type": "code",
   "execution_count": 10,
   "metadata": {},
   "outputs": [
    {
     "name": "stdout",
     "output_type": "stream",
     "text": [
      "Guess a number:1\n",
      "Guess a number:2\n",
      "Guess a number:3\n",
      "You lose! Sorry try again later\n"
     ]
    }
   ],
   "source": [
    "# Define a random_number with randit between 0-10.\n",
    "\n",
    "random_numbers = randint(1,10)\n",
    "\n",
    "# Initialize guesses_left to 3.\n",
    "\n",
    "guesses_left = 3\n",
    "\n",
    "# Use a while loop to let the user keep guessing so long as guesses_left is greater than zero\n",
    "\n",
    "while guesses_left > 0:\n",
    "    guess = int(input(\"Guess a number:\"))\n",
    "    \n",
    "    #If they guess correctly, print 'You win!' and break. Decrement guesses_left by one\n",
    "    \n",
    "    if guess == random_numbers:\n",
    "        print(\"You win\")\n",
    "        break\n",
    "    guesses_left = guesses_left - 1\n",
    "    \n",
    "    # Use an else: case after your while loop to print:You lose.\n",
    "    \n",
    "else:\n",
    "    print(\"You lose! Sorry try again later\")"
   ]
  },
  {
   "cell_type": "markdown",
   "metadata": {},
   "source": [
    "# for loop that prompts the user for a hobby 3 times, then appends each one to hobbies"
   ]
  },
  {
   "cell_type": "code",
   "execution_count": 18,
   "metadata": {},
   "outputs": [
    {
     "name": "stdout",
     "output_type": "stream",
     "text": [
      "Enter hobby:g\n",
      "Enter hobby:h\n",
      "Enter hobby:i\n",
      "['i']\n"
     ]
    }
   ],
   "source": [
    "hobbies = []\n",
    "for i in range(0,3):\n",
    "    hob=input(\"Enter hobby:\")\n",
    "hobbies.append(hob)\n",
    "print(hobbies)"
   ]
  },
  {
   "cell_type": "markdown",
   "metadata": {},
   "source": [
    "# loop that counts from 0 to 100"
   ]
  },
  {
   "cell_type": "code",
   "execution_count": 22,
   "metadata": {},
   "outputs": [
    {
     "name": "stdout",
     "output_type": "stream",
     "text": [
      "The count is 0\n",
      "The count is 1\n",
      "The count is 2\n",
      "The count is 3\n",
      "The count is 4\n",
      "The count is 5\n",
      "The count is 6\n",
      "The count is 7\n",
      "The count is 8\n",
      "The count is 9\n",
      "The count is 10\n",
      "wrong number\n"
     ]
    }
   ],
   "source": [
    "counting = 0\n",
    "\n",
    "while counting <= 10:\n",
    "    print(\"The count is\", counting)\n",
    "    counting =counting + 1\n",
    "else:\n",
    "    print(\"wrong number\")"
   ]
  },
  {
   "cell_type": "markdown",
   "metadata": {},
   "source": [
    "# multiplication table using a loop"
   ]
  },
  {
   "cell_type": "code",
   "execution_count": 26,
   "metadata": {},
   "outputs": [
    {
     "name": "stdout",
     "output_type": "stream",
     "text": [
      "Enter a number:5\n",
      "5 * 1 = 5\n",
      "5 * 2 = 10\n",
      "5 * 3 = 15\n",
      "5 * 4 = 20\n",
      "5 * 5 = 25\n",
      "5 * 6 = 30\n",
      "5 * 7 = 35\n",
      "5 * 8 = 40\n",
      "5 * 9 = 45\n",
      "5 * 10 = 50\n"
     ]
    }
   ],
   "source": [
    "n = int(input(\"Enter a number:\"))\n",
    "\n",
    "for i in range(1,11):\n",
    "    print(n, \"*\", i, \"=\", n*i)"
   ]
  },
  {
   "cell_type": "markdown",
   "metadata": {},
   "source": [
    "# Output the numbers 1 to 10 backwards using a loop"
   ]
  },
  {
   "cell_type": "code",
   "execution_count": 33,
   "metadata": {},
   "outputs": [
    {
     "name": "stdout",
     "output_type": "stream",
     "text": [
      "10\n",
      "9\n",
      "8\n",
      "7\n",
      "6\n",
      "5\n",
      "4\n",
      "3\n",
      "2\n",
      "1\n",
      "0\n"
     ]
    }
   ],
   "source": [
    "for i in reversed(range(11)):\n",
    "    print(i)"
   ]
  },
  {
   "cell_type": "markdown",
   "metadata": {},
   "source": [
    "# loop that counts all even numbers to 10"
   ]
  },
  {
   "cell_type": "code",
   "execution_count": 41,
   "metadata": {},
   "outputs": [
    {
     "name": "stdout",
     "output_type": "stream",
     "text": [
      "2 is an even number\n",
      "4 is an even number\n",
      "6 is an even number\n",
      "8 is an even number\n",
      "10 is an even number\n"
     ]
    }
   ],
   "source": [
    "for i in range(1,11):\n",
    "    if i % 2 == 0:\n",
    "        print(i,\"is an even number\")\n",
    "    continue"
   ]
  },
  {
   "cell_type": "markdown",
   "metadata": {},
   "source": [
    "# loop that sums the numbers from 100 to 200"
   ]
  },
  {
   "cell_type": "code",
   "execution_count": 46,
   "metadata": {},
   "outputs": [
    {
     "name": "stdout",
     "output_type": "stream",
     "text": [
      "20602\n"
     ]
    }
   ],
   "source": [
    "for i in range(100,201):\n",
    "    sum = sum + 1\n",
    "print(sum)"
   ]
  },
  {
   "cell_type": "code",
   "execution_count": 2,
   "metadata": {},
   "outputs": [],
   "source": [
    "# question 25,27,"
   ]
  },
  {
   "cell_type": "markdown",
   "metadata": {},
   "source": [
    "# print out all even numbers from a given numbers list in the same order and \n",
    "# stop the printing if any numbers that come after 237 in the sequence"
   ]
  },
  {
   "cell_type": "code",
   "execution_count": 15,
   "metadata": {},
   "outputs": [
    {
     "name": "stdout",
     "output_type": "stream",
     "text": [
      "numbers: 236\n",
      "numbers: 162\n",
      "numbers: 104\n",
      "numbers: 58\n",
      "numbers: 24\n",
      "List finish!\n"
     ]
    }
   ],
   "source": [
    "numbers = [    \n",
    "    386, 462, 47, 418, 907, 344, 236, 375, 823, 566, 597, 978, 328, 615, 953, 345, \n",
    "    399, 162, 758, 219, 918, 237, 412, 566, 826, 248, 866, 950, 626, 949, 687, 217, \n",
    "    815, 67, 104, 58, 512, 24, 892, 894, 767, 553, 81, 379, 843, 831, 445, 742, 717, \n",
    "    958,743, 527\n",
    "    ]\n",
    "\n",
    "for i in numbers:\n",
    "    if i % 2 == 0 and i < 237:\n",
    "        print(\"numbers:\",i)\n",
    "else:\n",
    "    print(\"List finish!\")\n",
    "     "
   ]
  },
  {
   "cell_type": "markdown",
   "metadata": {},
   "source": [
    "# print out a set containing all the colors from color_list_1 which are not present in color_list_2"
   ]
  },
  {
   "cell_type": "code",
   "execution_count": 16,
   "metadata": {},
   "outputs": [
    {
     "name": "stdout",
     "output_type": "stream",
     "text": [
      "Black\n",
      "White\n"
     ]
    }
   ],
   "source": [
    "color_list_1 = set([\"White\", \"Black\", \"Red\"]) \n",
    "color_list_2 = set([\"Red\", \"Green\"])\n",
    "\n",
    "for colors in set(color_list_1 ).difference(set(color_list_2)):\n",
    "    print(colors)"
   ]
  },
  {
   "cell_type": "markdown",
   "metadata": {},
   "source": [
    "# program that will accept the base and height of a triangle and compute the area"
   ]
  },
  {
   "cell_type": "code",
   "execution_count": 18,
   "metadata": {},
   "outputs": [
    {
     "name": "stdout",
     "output_type": "stream",
     "text": [
      "Enter base of triangle:20\n",
      "Enter height of triangle:40\n",
      "400.0\n"
     ]
    }
   ],
   "source": [
    "base_of_triangle = int(input(\"Enter base of triangle:\"))\n",
    "height_of_triangle = int(input(\"Enter height of triangle:\"))\n",
    "\n",
    "area = height_of_triangle * base_of_triangle / 2\n",
    "\n",
    "print(area)"
   ]
  },
  {
   "cell_type": "markdown",
   "metadata": {},
   "source": [
    "# compute the greatest common divisor (GCD) of two positive integers."
   ]
  },
  {
   "cell_type": "markdown",
   "metadata": {},
   "source": [
    "# also called highest common factor : ie: for 8 and 12 -- 4 is the GCD"
   ]
  },
  {
   "cell_type": "markdown",
   "metadata": {},
   "source": [
    "#  largest number that divides the given numbers."
   ]
  },
  {
   "cell_type": "code",
   "execution_count": 25,
   "metadata": {},
   "outputs": [
    {
     "name": "stdout",
     "output_type": "stream",
     "text": [
      "num1: 110\n",
      "num2: 120\n",
      "10\n"
     ]
    }
   ],
   "source": [
    "from math import gcd\n",
    "\n",
    "a = int(input(\"num1: \"))\n",
    "b = int(input(\"num2: \"))\n",
    "\n",
    "print(gcd(a,b))"
   ]
  },
  {
   "cell_type": "code",
   "execution_count": 28,
   "metadata": {},
   "outputs": [],
   "source": [
    "from math import gcd"
   ]
  },
  {
   "cell_type": "code",
   "execution_count": 29,
   "metadata": {},
   "outputs": [
    {
     "name": "stdout",
     "output_type": "stream",
     "text": [
      "10\n",
      "15\n"
     ]
    },
    {
     "ename": "NameError",
     "evalue": "name 'math' is not defined",
     "output_type": "error",
     "traceback": [
      "\u001b[1;31m---------------------------------------------------------------------------\u001b[0m",
      "\u001b[1;31mNameError\u001b[0m                                 Traceback (most recent call last)",
      "\u001b[1;32m<ipython-input-29-64b5f7e86f0c>\u001b[0m in \u001b[0;36m<module>\u001b[1;34m()\u001b[0m\n\u001b[0;32m      3\u001b[0m \u001b[0mn1\u001b[0m \u001b[1;33m=\u001b[0m \u001b[0mint\u001b[0m\u001b[1;33m(\u001b[0m\u001b[0minput\u001b[0m\u001b[1;33m(\u001b[0m\u001b[1;33m)\u001b[0m\u001b[1;33m)\u001b[0m\u001b[1;33m\u001b[0m\u001b[0m\n\u001b[0;32m      4\u001b[0m \u001b[0mn2\u001b[0m \u001b[1;33m=\u001b[0m \u001b[0mint\u001b[0m\u001b[1;33m(\u001b[0m\u001b[0minput\u001b[0m\u001b[1;33m(\u001b[0m\u001b[1;33m)\u001b[0m\u001b[1;33m)\u001b[0m\u001b[1;33m\u001b[0m\u001b[0m\n\u001b[1;32m----> 5\u001b[1;33m \u001b[0mgcd\u001b[0m \u001b[1;33m=\u001b[0m \u001b[0mmath\u001b[0m\u001b[1;33m.\u001b[0m\u001b[0mgcd\u001b[0m\u001b[1;33m(\u001b[0m\u001b[0mn1\u001b[0m\u001b[1;33m,\u001b[0m \u001b[0mn2\u001b[0m\u001b[1;33m)\u001b[0m\u001b[1;33m\u001b[0m\u001b[0m\n\u001b[0m\u001b[0;32m      6\u001b[0m \u001b[1;33m\u001b[0m\u001b[0m\n\u001b[0;32m      7\u001b[0m \u001b[1;32mdef\u001b[0m \u001b[0mlcm\u001b[0m\u001b[1;33m(\u001b[0m\u001b[0mn\u001b[0m\u001b[1;33m,\u001b[0m \u001b[0mm\u001b[0m\u001b[1;33m)\u001b[0m\u001b[1;33m:\u001b[0m\u001b[1;33m\u001b[0m\u001b[0m\n",
      "\u001b[1;31mNameError\u001b[0m: name 'math' is not defined"
     ]
    }
   ],
   "source": [
    "from math import gcd\n",
    "\n",
    "n1 = int(input())\n",
    "n2 = int(input())\n",
    "gcd = math.gcd(n1, n2)\n",
    "\n",
    "def lcm(n, m):\n",
    "    return n * m / gcd\n",
    "    \n",
    "print(int(lcm(n1,n2)))"
   ]
  },
  {
   "cell_type": "markdown",
   "metadata": {},
   "source": [
    "# sum of three given integers. However, if two values are equal sum will be zero."
   ]
  },
  {
   "cell_type": "code",
   "execution_count": 36,
   "metadata": {},
   "outputs": [
    {
     "name": "stdout",
     "output_type": "stream",
     "text": [
      "enter first number:5\n",
      "enter second number:5\n",
      "enter third number:4\n",
      "SUM is ZERO\n"
     ]
    }
   ],
   "source": [
    "x = int(input(\"enter first number:\"))\n",
    "y = int(input(\"enter second number:\"))\n",
    "z = int(input(\"enter third number:\"))\n",
    "num = [x,y,z]\n",
    "\n",
    "if x == y or y == z or z == x:\n",
    "    print(\"SUM is ZERO\")\n",
    "else:\n",
    "    print(sum(x,y,z))"
   ]
  },
  {
   "cell_type": "markdown",
   "metadata": {},
   "source": [
    "# sum of two given integers. However, if the sum is between 15 to 20 it will return 20"
   ]
  },
  {
   "cell_type": "code",
   "execution_count": 41,
   "metadata": {},
   "outputs": [
    {
     "name": "stdout",
     "output_type": "stream",
     "text": [
      "Enter first number:3\n",
      "Enter second number:4\n",
      "Sum of the two integers is: 7\n"
     ]
    }
   ],
   "source": [
    "x = int(input(\"Enter first number:\"))\n",
    "y = int(input(\"Enter second number:\"))\n",
    "sum = x + y\n",
    "\n",
    "if  sum>=15 and sum<=20: \n",
    "    print(\"20\")\n",
    "else:\n",
    "    print(\"Sum of the two integers is:\",sum)\n",
    "    "
   ]
  },
  {
   "cell_type": "markdown",
   "metadata": {},
   "source": [
    "# program which will return true if the two given integer values are equal or their sum or difference is 5"
   ]
  },
  {
   "cell_type": "code",
   "execution_count": 44,
   "metadata": {},
   "outputs": [
    {
     "name": "stdout",
     "output_type": "stream",
     "text": [
      "Enter 1st number:10\n",
      "Enter 2nd number:12\n",
      "False\n"
     ]
    }
   ],
   "source": [
    "x = int(input(\"Enter 1st number:\"))\n",
    "y = int(input(\"Enter 2nd number:\"))\n",
    "\n",
    "if x == y or abs(x-y) == 5 or x + y == 5:\n",
    "    print(\"True\")\n",
    "else:\n",
    "    print(\"False\")"
   ]
  },
  {
   "cell_type": "markdown",
   "metadata": {},
   "source": [
    "# add two objects if both objects are an integer type."
   ]
  },
  {
   "cell_type": "code",
   "execution_count": 49,
   "metadata": {},
   "outputs": [
    {
     "name": "stdout",
     "output_type": "stream",
     "text": [
      "Enter first number:1\n",
      "Enter second number:1\n",
      "2\n"
     ]
    }
   ],
   "source": [
    "input_1 = input(\"Enter first number:\")\n",
    "input_2 = input(\"Enter second number:\")\n",
    "\n",
    "if input_1.isdigit() is True and input_2.isdigit() is True:\n",
    "    print(int(input_1)+int(input_2))\n",
    "else:\n",
    "    print(\"Enter only integers\")"
   ]
  },
  {
   "cell_type": "markdown",
   "metadata": {},
   "source": [
    "# display your details like name, age, address in three different lines."
   ]
  },
  {
   "cell_type": "code",
   "execution_count": null,
   "metadata": {},
   "outputs": [],
   "source": [
    "name = input(\"Enter your name:\")\n",
    "age = int(input(\"Enter your age,ie:23(in numbers):\"))\n",
    "address = input(\"Enter your address:\")\n",
    "\n",
    "print(\"Name: {}\\nAge: {}\\nAddress: {}\".format(name, age,address))\n"
   ]
  },
  {
   "cell_type": "code",
   "execution_count": 53,
   "metadata": {},
   "outputs": [
    {
     "name": "stdout",
     "output_type": "stream",
     "text": [
      "My name is {name}\n",
      "My age is {age}\n",
      "My address is {address}\n"
     ]
    }
   ],
   "source": [
    "print(\"My name is {name}\\nMy age is {age}\\nMy address is {address}\")"
   ]
  },
  {
   "cell_type": "code",
   "execution_count": null,
   "metadata": {},
   "outputs": [],
   "source": []
  }
 ],
 "metadata": {
  "kernelspec": {
   "display_name": "Python 3",
   "language": "python",
   "name": "python3"
  },
  "language_info": {
   "codemirror_mode": {
    "name": "ipython",
    "version": 3
   },
   "file_extension": ".py",
   "mimetype": "text/x-python",
   "name": "python",
   "nbconvert_exporter": "python",
   "pygments_lexer": "ipython3",
   "version": "3.6.5"
  }
 },
 "nbformat": 4,
 "nbformat_minor": 2
}
