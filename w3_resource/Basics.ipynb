{
 "cells": [
  {
   "cell_type": "code",
   "execution_count": 27,
   "metadata": {},
   "outputs": [],
   "source": [
    "import pandas as pd\n",
    "import numpy as np"
   ]
  },
  {
   "cell_type": "markdown",
   "metadata": {},
   "source": [
    "# display the current date and time."
   ]
  },
  {
   "cell_type": "code",
   "execution_count": 6,
   "metadata": {},
   "outputs": [
    {
     "name": "stdout",
     "output_type": "stream",
     "text": [
      "2019-01-14 11:38:07.204477\n"
     ]
    }
   ],
   "source": [
    "import datetime \n",
    "now = datetime.datetime.now()\n",
    "print(now)"
   ]
  },
  {
   "cell_type": "code",
   "execution_count": 7,
   "metadata": {},
   "outputs": [
    {
     "data": {
      "text/plain": [
       "'3.6.5 |Anaconda, Inc.| (default, Mar 29 2018, 13:32:41) [MSC v.1900 64 bit (AMD64)]'"
      ]
     },
     "execution_count": 7,
     "metadata": {},
     "output_type": "execute_result"
    }
   ],
   "source": [
    "# current version of python\n",
    "\n",
    "import sys\n",
    "sys.version"
   ]
  },
  {
   "cell_type": "code",
   "execution_count": 8,
   "metadata": {},
   "outputs": [],
   "source": [
    "# program which accepts the radius of a circle from the user and compute the area"
   ]
  },
  {
   "cell_type": "code",
   "execution_count": 18,
   "metadata": {},
   "outputs": [
    {
     "name": "stdout",
     "output_type": "stream",
     "text": [
      "Enter radius of circle:1\n",
      "Area of cirle with radius 1 = 3.141592653589793\n"
     ]
    }
   ],
   "source": [
    "r = int(input(\"Enter radius of circle:\"))\n",
    "\n",
    "# area of circle = pi*r square root 2\n",
    "\n",
    "from math import pi\n",
    "\n",
    "print(\"Area of cirle with radius\", r, \"=\", pi * r **2)"
   ]
  },
  {
   "cell_type": "code",
   "execution_count": 15,
   "metadata": {},
   "outputs": [],
   "source": [
    "# program which accepts the user's first and last name and print them in reverse order with a space between them"
   ]
  },
  {
   "cell_type": "code",
   "execution_count": 20,
   "metadata": {},
   "outputs": [
    {
     "name": "stdout",
     "output_type": "stream",
     "text": [
      "Enter first name:J\n",
      "Enter last name:Dhingra\n",
      "Dhingra  J\n"
     ]
    }
   ],
   "source": [
    "x = input(\"Enter first name:\")\n",
    "y = input(\"Enter last name:\")\n",
    "\n",
    "print(y,\"\",x)"
   ]
  },
  {
   "cell_type": "code",
   "execution_count": 21,
   "metadata": {},
   "outputs": [],
   "source": [
    "#  program which accepts a sequence of comma-separated numbers from user and generate a list and a tuple with those numbers."
   ]
  },
  {
   "cell_type": "code",
   "execution_count": 4,
   "metadata": {},
   "outputs": [
    {
     "name": "stdout",
     "output_type": "stream",
     "text": [
      "Enter numbers seprated by ,: 1,2,3,4,5,6\n",
      "['1', '2', '3', '4', '5', '6']\n",
      "('1', '2', '3', '4', '5', '6')\n"
     ]
    }
   ],
   "source": [
    "my_numbers = input(\"Enter numbers seprated by ,: \") \n",
    "\n",
    "my_list = my_numbers.split(\",\")\n",
    "my_tuple = tuple(my_list)\n",
    "print(my_list)\n",
    "print(my_tuple)"
   ]
  },
  {
   "cell_type": "code",
   "execution_count": 13,
   "metadata": {},
   "outputs": [
    {
     "name": "stdout",
     "output_type": "stream",
     "text": [
      "Red Black\n"
     ]
    }
   ],
   "source": [
    "# display the first and last colors from the following list\n",
    "\n",
    "color_list = [\"Red\",\"Green\",\"White\" ,\"Black\"]\n",
    "\n",
    "print(color_list[0],color_list[3])"
   ]
  },
  {
   "cell_type": "code",
   "execution_count": 26,
   "metadata": {},
   "outputs": [
    {
     "name": "stdout",
     "output_type": "stream",
     "text": [
      "Exam starts: 12/ 3/ 2019\n"
     ]
    }
   ],
   "source": [
    "# display the examination schedule. (extract the date from exam_st_date\n",
    "\n",
    "exam_st_date = (12,3,2019)\n",
    "\n",
    "print(\"Exam starts: %i/ %i/ %i\"%exam_st_date)"
   ]
  },
  {
   "cell_type": "markdown",
   "metadata": {},
   "source": [
    "# print(\"the data in foo is %s\" %(foo))\n",
    " \n",
    "# this is equivalent to \n",
    " \n",
    "# print(\"the data in foo is \"+foo)\n",
    " \n"
   ]
  },
  {
   "cell_type": "code",
   "execution_count": 28,
   "metadata": {},
   "outputs": [],
   "source": [
    "# print the calendar of a given month and year."
   ]
  },
  {
   "cell_type": "code",
   "execution_count": 35,
   "metadata": {},
   "outputs": [
    {
     "name": "stdout",
     "output_type": "stream",
     "text": [
      "Enter year:1992\n",
      "Enter month:10\n",
      "    October 1992\n",
      "Mo Tu We Th Fr Sa Su\n",
      "          1  2  3  4\n",
      " 5  6  7  8  9 10 11\n",
      "12 13 14 15 16 17 18\n",
      "19 20 21 22 23 24 25\n",
      "26 27 28 29 30 31\n",
      "\n"
     ]
    }
   ],
   "source": [
    "import calendar\n",
    "\n",
    "x = int(input(\"Enter year:\"))\n",
    "y = int(input(\"Enter month:\"))\n",
    "# calendar.month(year,month)\n",
    "\n",
    "print(calendar.month(x,y))"
   ]
  },
  {
   "cell_type": "code",
   "execution_count": 37,
   "metadata": {},
   "outputs": [
    {
     "name": "stdout",
     "output_type": "stream",
     "text": [
      "29\n"
     ]
    }
   ],
   "source": [
    "# calculate number of days between two dates.\n",
    "\n",
    "# (2014, 7, 2), (2014, 7, 11)\n",
    "\n",
    "from datetime import date\n",
    "\n",
    "date_1 = date(2018,1,1)\n",
    "date_2 = date(2018,1,30)\n",
    "\n",
    "difference_date = date_2 - date_1\n",
    "\n",
    "print(difference_date.days)"
   ]
  },
  {
   "cell_type": "code",
   "execution_count": 49,
   "metadata": {},
   "outputs": [
    {
     "name": "stdout",
     "output_type": "stream",
     "text": [
      "Enter radius:4\n",
      "268.082573106329\n"
     ]
    }
   ],
   "source": [
    "# get the volume of a sphere with radius 6.\n",
    "\n",
    "# volume of the sphere is : V = 4/3 × π × r3 = π × d3/6.\n",
    "\n",
    "from math import pi\n",
    "\n",
    "r = float(input(\"Enter radius:\"))\n",
    "v = 4/3* pi * r**3\n",
    "\n",
    "print(v)"
   ]
  },
  {
   "cell_type": "markdown",
   "metadata": {},
   "source": [
    "# The abs() function is used to return the absolute value of a number."
   ]
  },
  {
   "cell_type": "code",
   "execution_count": 59,
   "metadata": {},
   "outputs": [
    {
     "name": "stdout",
     "output_type": "stream",
     "text": [
      "Type a number: 20.5\n",
      "7.0\n"
     ]
    }
   ],
   "source": [
    "# get the difference between a given number and 17,# (user_num - 17)\n",
    "# if the number is greater than 17 return double the absolute difference # (user_num > 17, multiply by 2)\n",
    "\n",
    "user_num = float(input(\"Type a number: \"))\n",
    "\n",
    "fixed_num = 17\n",
    "\n",
    "if user_num < fixed_num:\n",
    "    print(abs(user_num - fixed_num))\n",
    "else:\n",
    "    print((abs(user_num - fixed_num))*2)"
   ]
  },
  {
   "cell_type": "code",
   "execution_count": 70,
   "metadata": {},
   "outputs": [
    {
     "name": "stdout",
     "output_type": "stream",
     "text": [
      "enter the number between 0 and 2000:6\n",
      "number is less than 100\n"
     ]
    }
   ],
   "source": [
    "# test whether a number between 1000 or 2000 is less than 100.\n",
    "\n",
    "n= int(input(\"enter the number between 0 and 2000:\"))\n",
    "\n",
    "if n<=100:\n",
    "    print(\"number is less than 100\")\n",
    "elif(n>=100 and n<=1000):\n",
    "    print(\"the numbere is in between 100 and 1000\")\n",
    "elif(n>=1000 and n<=2000):\n",
    "    print(\"The number is in between 1000 and 2000\")\n",
    "else:\n",
    "    print(\"Type numbers only between 1 to 2000\")"
   ]
  },
  {
   "cell_type": "code",
   "execution_count": 81,
   "metadata": {},
   "outputs": [
    {
     "name": "stdout",
     "output_type": "stream",
     "text": [
      "Enter first number:5\n",
      "Enter second number:5\n",
      "Enter third number:5\n",
      "45\n"
     ]
    }
   ],
   "source": [
    "# calculate the sum of three given numbers, if the values are equal then return thrice of their sum\n",
    "\n",
    "n1= int(input(\"Enter first number:\"))\n",
    "n2= int(input(\"Enter second number:\"))\n",
    "n3 = int(input(\"Enter third number:\"))\n",
    "num_list = [n1,n2,n3]\n",
    "\n",
    "if n1 == n2 == n3:\n",
    "    print(sum(num_list)*3)\n",
    "else:\n",
    "    print(sum(num_list))"
   ]
  },
  {
   "cell_type": "code",
   "execution_count": 86,
   "metadata": {},
   "outputs": [
    {
     "name": "stdout",
     "output_type": "stream",
     "text": [
      "enter the string:juhi\n",
      "is juhi\n"
     ]
    }
   ],
   "source": [
    "# get a new string from a given string where \"Is\" has been added to the front. \n",
    "# If the given string already begins with \"Is\" then return the string unchanged.\n",
    "\n",
    "string1= input(\"enter the string:\")\n",
    "\n",
    "newstr =\"is\" +\" \"+ string1\n",
    "\n",
    "if(string1[0:2]==\"is\"):\n",
    "    print(string1)\n",
    "else:\n",
    "    print(newstr)"
   ]
  },
  {
   "cell_type": "code",
   "execution_count": 88,
   "metadata": {},
   "outputs": [
    {
     "name": "stdout",
     "output_type": "stream",
     "text": [
      "enter a number:4\n",
      "Even number\n"
     ]
    }
   ],
   "source": [
    "#  find whether a given number (accept from the user) is even or odd,\n",
    "# print out an appropriate message to the user\n",
    "\n",
    "user_num = int(input(\"enter a number:\"))\n",
    "\n",
    "if (user_num % 2) == 0:\n",
    "    print(\"Even number\")\n",
    "else:\n",
    "    print(\"Odd number\")"
   ]
  },
  {
   "cell_type": "code",
   "execution_count": 105,
   "metadata": {},
   "outputs": [
    {
     "name": "stdout",
     "output_type": "stream",
     "text": [
      "enter the list: 23,4,5,6,89,90\n",
      "enter the value: 9\n",
      "2\n"
     ]
    }
   ],
   "source": [
    "# count the number 4 in a given list.\n",
    "\n",
    "list = (input(\"enter the list: \"))\n",
    "t=input(\"enter the value: \")\n",
    "\n",
    "r=list.count(t)\n",
    "print(r)"
   ]
  },
  {
   "cell_type": "code",
   "execution_count": 111,
   "metadata": {},
   "outputs": [
    {
     "name": "stdout",
     "output_type": "stream",
     "text": [
      "Enter a letter:A\n",
      "A is a Vowel\n"
     ]
    }
   ],
   "source": [
    "# test whether a passed letter is a vowel or not\n",
    "\n",
    "letters = input(\"Enter a letter:\")\n",
    "my_vowels = [\"a\",\"e\",\"i\",\"o\",\"u\",\"A\",\"E\",\"I\",\"O\",\"U\"]\n",
    "\n",
    "if letters in my_vowels:\n",
    "    print(letters, \"is a Vowel\")\n",
    "else:\n",
    "    print(letters, \"is Not a vowel\")"
   ]
  },
  {
   "cell_type": "code",
   "execution_count": 119,
   "metadata": {},
   "outputs": [
    {
     "name": "stdout",
     "output_type": "stream",
     "text": [
      "True\n",
      "False\n"
     ]
    }
   ],
   "source": [
    "# check whether a specified value is contained in a group of values.\n",
    "\n",
    "#########Test Data###############\n",
    "# 3 -----> [1, 5, 8, 3] : True\n",
    "# -1 ----> [1, 5, 8, 3] : False\n",
    "\n",
    "def is_group_member(group_data, my_val):\n",
    "    for i in group_data:\n",
    "        if my_val == i:\n",
    "            return True\n",
    "    return False\n",
    "\n",
    "print(is_group_member([1, 5, 8, 3], 3))\n",
    "print(is_group_member([5, 8, 3], -1))"
   ]
  },
  {
   "cell_type": "code",
   "execution_count": 118,
   "metadata": {},
   "outputs": [],
   "source": [
    "# concatenate all elements in a list into a string and return it\n",
    "\n",
    "my_list = [1,2,3,4,5,6,7,8,9]\n"
   ]
  },
  {
   "cell_type": "code",
   "execution_count": null,
   "metadata": {},
   "outputs": [],
   "source": []
  }
 ],
 "metadata": {
  "kernelspec": {
   "display_name": "Python 3",
   "language": "python",
   "name": "python3"
  },
  "language_info": {
   "codemirror_mode": {
    "name": "ipython",
    "version": 3
   },
   "file_extension": ".py",
   "mimetype": "text/x-python",
   "name": "python",
   "nbconvert_exporter": "python",
   "pygments_lexer": "ipython3",
   "version": "3.6.5"
  }
 },
 "nbformat": 4,
 "nbformat_minor": 2
}
